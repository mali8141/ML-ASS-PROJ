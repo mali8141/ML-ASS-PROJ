{
 "cells": [
  {
   "cell_type": "code",
   "execution_count": 3,
   "id": "118d30c3",
   "metadata": {},
   "outputs": [],
   "source": [
    "import numpy  as np"
   ]
  },
  {
   "cell_type": "code",
   "execution_count": 2,
   "id": "cc0426fe",
   "metadata": {},
   "outputs": [
    {
     "name": "stdout",
     "output_type": "stream",
     "text": [
      "[[1 2 3]\n",
      " [4 5 6]\n",
      " [7 8 9]]\n"
     ]
    }
   ],
   "source": [
    "a = np.array([[1,2,3],[4,5,6],[7,8,9]])\n",
    "print(a)"
   ]
  },
  {
   "cell_type": "code",
   "execution_count": 4,
   "id": "5bfde5e1",
   "metadata": {},
   "outputs": [],
   "source": []
  },
  {
   "cell_type": "code",
   "execution_count": 7,
   "id": "b979a7f1",
   "metadata": {},
   "outputs": [
    {
     "name": "stdout",
     "output_type": "stream",
     "text": [
      "Input array :  [1, 3, 5]\n",
      "Output array :  [  2.71828183  20.08553692 148.4131591 ]\n"
     ]
    }
   ],
   "source": [
    "#task\n",
    "#1. exponentation : np.exp(b)\n",
    "\n",
    "in_array = [1, 3, 5]\n",
    "print (\"Input array : \", in_array)\n",
    "  \n",
    "out_array = np.exp(in_array)\n",
    "print (\"Output array : \", out_array)"
   ]
  },
  {
   "cell_type": "code",
   "execution_count": 22,
   "id": "4ddb81e4",
   "metadata": {},
   "outputs": [
    {
     "name": "stdout",
     "output_type": "stream",
     "text": [
      "[1. 2. 3. 4.]\n",
      "[2.44948974 3.16227766 4.24264069]\n"
     ]
    }
   ],
   "source": [
    "#2. square root : np.sqrt(b)\n",
    "\n",
    "  \n",
    "arr1 = np.sqrt([1, 4, 9, 16])\n",
    "arr2 = np.sqrt([6, 10, 18])\n",
    "  \n",
    "print(arr1)\n",
    "print(arr2)"
   ]
  },
  {
   "cell_type": "code",
   "execution_count": null,
   "id": "8282f601",
   "metadata": {},
   "outputs": [],
   "source": []
  },
  {
   "cell_type": "code",
   "execution_count": 14,
   "id": "2d64b744",
   "metadata": {},
   "outputs": [
    {
     "name": "stdout",
     "output_type": "stream",
     "text": [
      "[0.         0.90929743 0.14112001]\n"
     ]
    }
   ],
   "source": [
    "#3. print sines of an array : np.sin(a)\n",
    "\n",
    "in_array = [0, 2, 3]\n",
    "\n",
    " \n",
    "Sin_Values = np.sin(in_array)\n",
    "print (Sin_Values)"
   ]
  },
  {
   "cell_type": "code",
   "execution_count": 15,
   "id": "4f369830",
   "metadata": {
    "scrolled": true
   },
   "outputs": [
    {
     "name": "stdout",
     "output_type": "stream",
     "text": [
      "[ 0.54030231  0.28366219 -0.9899925 ]\n"
     ]
    }
   ],
   "source": [
    "#4. element wise cosine : np.cos(d)\n",
    "\n",
    "in_array = [1, 5, 3]\n",
    "\n",
    " \n",
    "cos_Values = np.cos(in_array)\n",
    "print (cos_Values)"
   ]
  },
  {
   "cell_type": "code",
   "execution_count": 20,
   "id": "8e1e15a6",
   "metadata": {},
   "outputs": [
    {
     "name": "stdout",
     "output_type": "stream",
     "text": [
      "5.545177444479562\n",
      "5.545177444479562\n"
     ]
    }
   ],
   "source": [
    "#5. element-wise natural logarithm : np.log(a)\n",
    " \n",
    "print( np.log(4**4))\n",
    "print( np.log(2**8))"
   ]
  },
  {
   "cell_type": "code",
   "execution_count": null,
   "id": "085eeda2",
   "metadata": {},
   "outputs": [],
   "source": [
    "#6. dot product : C.dot(d)\n",
    "#hint- shift=tab"
   ]
  },
  {
   "cell_type": "code",
   "execution_count": 23,
   "id": "5316db8a",
   "metadata": {},
   "outputs": [
    {
     "name": "stdout",
     "output_type": "stream",
     "text": [
      "[2. 4. 3. 1. 5. 7.]\n"
     ]
    }
   ],
   "source": [
    "#1. practice\n",
    "#initialize a list\n",
    "listA = [4, 16, 9, 1, 25, 49]\n",
    "\n",
    "#find square root of items in the list\n",
    "output = np.sqrt(listA)\n",
    "\n",
    "print(output)"
   ]
  },
  {
   "cell_type": "code",
   "execution_count": 34,
   "id": "ab51f0bd",
   "metadata": {},
   "outputs": [
    {
     "name": "stdout",
     "output_type": "stream",
     "text": [
      "[20 14 22]\n"
     ]
    }
   ],
   "source": [
    "#2. practice\n",
    "a = np.array([17, 11, 19]) # 1x3 Dimension array\n",
    "\n",
    "b = 3 \n",
    "\n",
    "c = a + b\n",
    "print(c)"
   ]
  },
  {
   "cell_type": "code",
   "execution_count": null,
   "id": "77c39c40",
   "metadata": {},
   "outputs": [],
   "source": []
  }
 ],
 "metadata": {
  "kernelspec": {
   "display_name": "Python 3 (ipykernel)",
   "language": "python",
   "name": "python3"
  },
  "language_info": {
   "codemirror_mode": {
    "name": "ipython",
    "version": 3
   },
   "file_extension": ".py",
   "mimetype": "text/x-python",
   "name": "python",
   "nbconvert_exporter": "python",
   "pygments_lexer": "ipython3",
   "version": "3.9.7"
  }
 },
 "nbformat": 4,
 "nbformat_minor": 5
}
