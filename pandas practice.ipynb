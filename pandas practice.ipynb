{
 "cells": [
  {
   "cell_type": "code",
   "execution_count": 1,
   "id": "ccf58f0b",
   "metadata": {},
   "outputs": [],
   "source": [
    " import pandas as pd\n",
    "import numpy as np"
   ]
  },
  {
   "cell_type": "code",
   "execution_count": 22,
   "id": "3203e34a",
   "metadata": {},
   "outputs": [],
   "source": [
    "#1. make a dic. with employee data colum name(name, age, add., qualification) which is having 10 datapoints\n"
   ]
  },
  {
   "cell_type": "code",
   "execution_count": 23,
   "id": "438a2862",
   "metadata": {
    "scrolled": true
   },
   "outputs": [
    {
     "name": "stdout",
     "output_type": "stream",
     "text": [
      "{'name': ['Pawan', 'Fenil', 'Jay', 'Akash', 'Keyur', 'Priya', 'Rashi', 'Ashish', 'Bhavesh', 'Niki'], 'age': ['23', '24', '23', '22', '24', '22', '23', '24', '22', '24'], 'address': ['Surat', 'Surat', 'Ahmedabad', 'Valsad', 'Navsari', 'Mumbai', 'Jaipur', 'Surat', 'Ahmedabad', 'Jodhpur'], 'qualification': ['B-tech', 'B-tech', 'B.com', 'BBA', 'MBA', 'CS', 'M-tech', 'B-tech', 'BCA', 'M.com']}\n"
     ]
    }
   ],
   "source": [
    "# creating a data frame using a dictionary\n",
    "dict1={'name':['Pawan','Fenil','Jay','Akash','Keyur','Priya','Rashi','Ashish','Bhavesh','Niki'],\n",
    "       'age':['23','24','23','22','24','22','23','24','22','24'],\n",
    "       'address':['Surat','Surat','Ahmedabad','Valsad','Navsari','Mumbai','Jaipur','Surat','Ahmedabad','Jodhpur'],\n",
    "       'qualification':['B-tech','B-tech','B.com','BBA','MBA','CS','M-tech','B-tech','BCA','M.com']}\n",
    "print(dict1)"
   ]
  },
  {
   "cell_type": "code",
   "execution_count": 24,
   "id": "2d716aae",
   "metadata": {},
   "outputs": [
    {
     "name": "stdout",
     "output_type": "stream",
     "text": [
      "      name age    address qualification\n",
      "0    Pawan  23      Surat        B-tech\n",
      "1    Fenil  24      Surat        B-tech\n",
      "2      Jay  23  Ahmedabad         B.com\n",
      "3    Akash  22     Valsad           BBA\n",
      "4    Keyur  24    Navsari           MBA\n",
      "5    Priya  22     Mumbai            CS\n",
      "6    Rashi  23     Jaipur        M-tech\n",
      "7   Ashish  24      Surat        B-tech\n",
      "8  Bhavesh  22  Ahmedabad           BCA\n",
      "9     Niki  24    Jodhpur         M.com\n"
     ]
    }
   ],
   "source": [
    "df=pd.DataFrame(dict1)\n",
    "print(df)"
   ]
  },
  {
   "cell_type": "code",
   "execution_count": 25,
   "id": "d5fac3f9",
   "metadata": {},
   "outputs": [
    {
     "data": {
      "text/plain": [
       "10"
      ]
     },
     "execution_count": 25,
     "metadata": {},
     "output_type": "execute_result"
    }
   ],
   "source": [
    "len(df)"
   ]
  },
  {
   "cell_type": "code",
   "execution_count": 5,
   "id": "c03c020e",
   "metadata": {},
   "outputs": [],
   "source": [
    "#2. change the default index to abcd...\n"
   ]
  },
  {
   "cell_type": "code",
   "execution_count": 26,
   "id": "1854d74a",
   "metadata": {},
   "outputs": [
    {
     "name": "stdout",
     "output_type": "stream",
     "text": [
      "      name age    address qualification\n",
      "A    Pawan  23      Surat        B-tech\n",
      "B    Fenil  24      Surat        B-tech\n",
      "C      Jay  23  Ahmedabad         B.com\n",
      "D    Akash  22     Valsad           BBA\n",
      "E    Keyur  24    Navsari           MBA\n",
      "F    Priya  22     Mumbai            CS\n",
      "H    Rashi  23     Jaipur        M-tech\n",
      "I   Ashish  24      Surat        B-tech\n",
      "J  Bhavesh  22  Ahmedabad           BCA\n",
      "K     Niki  24    Jodhpur         M.com\n"
     ]
    }
   ],
   "source": [
    "df2=pd.DataFrame(dict1,index=['A','B','C','D','E','F','H','I','J','K'])\n",
    "print(df2)"
   ]
  },
  {
   "cell_type": "code",
   "execution_count": null,
   "id": "eac76aea",
   "metadata": {},
   "outputs": [],
   "source": [
    "#3. add nuw colum name designation\n"
   ]
  },
  {
   "cell_type": "code",
   "execution_count": 27,
   "id": "035194e7",
   "metadata": {
    "scrolled": true
   },
   "outputs": [],
   "source": [
    "df['Designation']=['Student','Supervisor','J.Manager','SeniorEditor',np.nan,'Student','Professor','Manager','DAO','CEO']"
   ]
  },
  {
   "cell_type": "code",
   "execution_count": 28,
   "id": "470611e0",
   "metadata": {},
   "outputs": [
    {
     "data": {
      "text/html": [
       "<div>\n",
       "<style scoped>\n",
       "    .dataframe tbody tr th:only-of-type {\n",
       "        vertical-align: middle;\n",
       "    }\n",
       "\n",
       "    .dataframe tbody tr th {\n",
       "        vertical-align: top;\n",
       "    }\n",
       "\n",
       "    .dataframe thead th {\n",
       "        text-align: right;\n",
       "    }\n",
       "</style>\n",
       "<table border=\"1\" class=\"dataframe\">\n",
       "  <thead>\n",
       "    <tr style=\"text-align: right;\">\n",
       "      <th></th>\n",
       "      <th>name</th>\n",
       "      <th>age</th>\n",
       "      <th>address</th>\n",
       "      <th>qualification</th>\n",
       "      <th>Designation</th>\n",
       "    </tr>\n",
       "  </thead>\n",
       "  <tbody>\n",
       "    <tr>\n",
       "      <th>0</th>\n",
       "      <td>Pawan</td>\n",
       "      <td>23</td>\n",
       "      <td>Surat</td>\n",
       "      <td>B-tech</td>\n",
       "      <td>Student</td>\n",
       "    </tr>\n",
       "    <tr>\n",
       "      <th>1</th>\n",
       "      <td>Fenil</td>\n",
       "      <td>24</td>\n",
       "      <td>Surat</td>\n",
       "      <td>B-tech</td>\n",
       "      <td>Supervisor</td>\n",
       "    </tr>\n",
       "    <tr>\n",
       "      <th>2</th>\n",
       "      <td>Jay</td>\n",
       "      <td>23</td>\n",
       "      <td>Ahmedabad</td>\n",
       "      <td>B.com</td>\n",
       "      <td>J.Manager</td>\n",
       "    </tr>\n",
       "    <tr>\n",
       "      <th>3</th>\n",
       "      <td>Akash</td>\n",
       "      <td>22</td>\n",
       "      <td>Valsad</td>\n",
       "      <td>BBA</td>\n",
       "      <td>SeniorEditor</td>\n",
       "    </tr>\n",
       "    <tr>\n",
       "      <th>4</th>\n",
       "      <td>Keyur</td>\n",
       "      <td>24</td>\n",
       "      <td>Navsari</td>\n",
       "      <td>MBA</td>\n",
       "      <td>NaN</td>\n",
       "    </tr>\n",
       "    <tr>\n",
       "      <th>5</th>\n",
       "      <td>Priya</td>\n",
       "      <td>22</td>\n",
       "      <td>Mumbai</td>\n",
       "      <td>CS</td>\n",
       "      <td>Student</td>\n",
       "    </tr>\n",
       "    <tr>\n",
       "      <th>6</th>\n",
       "      <td>Rashi</td>\n",
       "      <td>23</td>\n",
       "      <td>Jaipur</td>\n",
       "      <td>M-tech</td>\n",
       "      <td>Professor</td>\n",
       "    </tr>\n",
       "    <tr>\n",
       "      <th>7</th>\n",
       "      <td>Ashish</td>\n",
       "      <td>24</td>\n",
       "      <td>Surat</td>\n",
       "      <td>B-tech</td>\n",
       "      <td>Manager</td>\n",
       "    </tr>\n",
       "    <tr>\n",
       "      <th>8</th>\n",
       "      <td>Bhavesh</td>\n",
       "      <td>22</td>\n",
       "      <td>Ahmedabad</td>\n",
       "      <td>BCA</td>\n",
       "      <td>DAO</td>\n",
       "    </tr>\n",
       "    <tr>\n",
       "      <th>9</th>\n",
       "      <td>Niki</td>\n",
       "      <td>24</td>\n",
       "      <td>Jodhpur</td>\n",
       "      <td>M.com</td>\n",
       "      <td>CEO</td>\n",
       "    </tr>\n",
       "  </tbody>\n",
       "</table>\n",
       "</div>"
      ],
      "text/plain": [
       "      name age    address qualification   Designation\n",
       "0    Pawan  23      Surat        B-tech       Student\n",
       "1    Fenil  24      Surat        B-tech    Supervisor\n",
       "2      Jay  23  Ahmedabad         B.com     J.Manager\n",
       "3    Akash  22     Valsad           BBA  SeniorEditor\n",
       "4    Keyur  24    Navsari           MBA           NaN\n",
       "5    Priya  22     Mumbai            CS       Student\n",
       "6    Rashi  23     Jaipur        M-tech     Professor\n",
       "7   Ashish  24      Surat        B-tech       Manager\n",
       "8  Bhavesh  22  Ahmedabad           BCA           DAO\n",
       "9     Niki  24    Jodhpur         M.com           CEO"
      ]
     },
     "execution_count": 28,
     "metadata": {},
     "output_type": "execute_result"
    }
   ],
   "source": [
    "df"
   ]
  },
  {
   "cell_type": "code",
   "execution_count": null,
   "id": "dffddc1a",
   "metadata": {},
   "outputs": [],
   "source": [
    "#4. add new raw of a new data of employee\n"
   ]
  },
  {
   "cell_type": "code",
   "execution_count": 30,
   "id": "e1218836",
   "metadata": {},
   "outputs": [
    {
     "data": {
      "text/plain": [
       "10"
      ]
     },
     "execution_count": 30,
     "metadata": {},
     "output_type": "execute_result"
    }
   ],
   "source": [
    "len(df)"
   ]
  },
  {
   "cell_type": "code",
   "execution_count": 35,
   "id": "7afd0e03",
   "metadata": {},
   "outputs": [],
   "source": [
    "df.loc[len(df)] = ['pooja', 22, 'surat', 'arts','student']"
   ]
  },
  {
   "cell_type": "code",
   "execution_count": 36,
   "id": "3892bab1",
   "metadata": {
    "scrolled": true
   },
   "outputs": [
    {
     "data": {
      "text/html": [
       "<div>\n",
       "<style scoped>\n",
       "    .dataframe tbody tr th:only-of-type {\n",
       "        vertical-align: middle;\n",
       "    }\n",
       "\n",
       "    .dataframe tbody tr th {\n",
       "        vertical-align: top;\n",
       "    }\n",
       "\n",
       "    .dataframe thead th {\n",
       "        text-align: right;\n",
       "    }\n",
       "</style>\n",
       "<table border=\"1\" class=\"dataframe\">\n",
       "  <thead>\n",
       "    <tr style=\"text-align: right;\">\n",
       "      <th></th>\n",
       "      <th>name</th>\n",
       "      <th>age</th>\n",
       "      <th>address</th>\n",
       "      <th>qualification</th>\n",
       "      <th>Designation</th>\n",
       "    </tr>\n",
       "  </thead>\n",
       "  <tbody>\n",
       "    <tr>\n",
       "      <th>0</th>\n",
       "      <td>Pawan</td>\n",
       "      <td>23</td>\n",
       "      <td>Surat</td>\n",
       "      <td>B-tech</td>\n",
       "      <td>Student</td>\n",
       "    </tr>\n",
       "    <tr>\n",
       "      <th>1</th>\n",
       "      <td>Fenil</td>\n",
       "      <td>24</td>\n",
       "      <td>Surat</td>\n",
       "      <td>B-tech</td>\n",
       "      <td>Supervisor</td>\n",
       "    </tr>\n",
       "    <tr>\n",
       "      <th>2</th>\n",
       "      <td>Jay</td>\n",
       "      <td>23</td>\n",
       "      <td>Ahmedabad</td>\n",
       "      <td>B.com</td>\n",
       "      <td>J.Manager</td>\n",
       "    </tr>\n",
       "    <tr>\n",
       "      <th>3</th>\n",
       "      <td>Akash</td>\n",
       "      <td>22</td>\n",
       "      <td>Valsad</td>\n",
       "      <td>BBA</td>\n",
       "      <td>SeniorEditor</td>\n",
       "    </tr>\n",
       "    <tr>\n",
       "      <th>4</th>\n",
       "      <td>Keyur</td>\n",
       "      <td>24</td>\n",
       "      <td>Navsari</td>\n",
       "      <td>MBA</td>\n",
       "      <td>NaN</td>\n",
       "    </tr>\n",
       "    <tr>\n",
       "      <th>5</th>\n",
       "      <td>Priya</td>\n",
       "      <td>22</td>\n",
       "      <td>Mumbai</td>\n",
       "      <td>CS</td>\n",
       "      <td>Student</td>\n",
       "    </tr>\n",
       "    <tr>\n",
       "      <th>6</th>\n",
       "      <td>Rashi</td>\n",
       "      <td>23</td>\n",
       "      <td>Jaipur</td>\n",
       "      <td>M-tech</td>\n",
       "      <td>Professor</td>\n",
       "    </tr>\n",
       "    <tr>\n",
       "      <th>7</th>\n",
       "      <td>Ashish</td>\n",
       "      <td>24</td>\n",
       "      <td>Surat</td>\n",
       "      <td>B-tech</td>\n",
       "      <td>Manager</td>\n",
       "    </tr>\n",
       "    <tr>\n",
       "      <th>8</th>\n",
       "      <td>Bhavesh</td>\n",
       "      <td>22</td>\n",
       "      <td>Ahmedabad</td>\n",
       "      <td>BCA</td>\n",
       "      <td>DAO</td>\n",
       "    </tr>\n",
       "    <tr>\n",
       "      <th>9</th>\n",
       "      <td>Niki</td>\n",
       "      <td>24</td>\n",
       "      <td>Jodhpur</td>\n",
       "      <td>M.com</td>\n",
       "      <td>CEO</td>\n",
       "    </tr>\n",
       "    <tr>\n",
       "      <th>10</th>\n",
       "      <td>pooja</td>\n",
       "      <td>22</td>\n",
       "      <td>surat</td>\n",
       "      <td>arts</td>\n",
       "      <td>student</td>\n",
       "    </tr>\n",
       "    <tr>\n",
       "      <th>11</th>\n",
       "      <td>pooja</td>\n",
       "      <td>22</td>\n",
       "      <td>surat</td>\n",
       "      <td>arts</td>\n",
       "      <td>student</td>\n",
       "    </tr>\n",
       "    <tr>\n",
       "      <th>12</th>\n",
       "      <td>pooja</td>\n",
       "      <td>22</td>\n",
       "      <td>surat</td>\n",
       "      <td>arts</td>\n",
       "      <td>student</td>\n",
       "    </tr>\n",
       "    <tr>\n",
       "      <th>13</th>\n",
       "      <td>pooja</td>\n",
       "      <td>22</td>\n",
       "      <td>surat</td>\n",
       "      <td>arts</td>\n",
       "      <td>student</td>\n",
       "    </tr>\n",
       "  </tbody>\n",
       "</table>\n",
       "</div>"
      ],
      "text/plain": [
       "       name age    address qualification   Designation\n",
       "0     Pawan  23      Surat        B-tech       Student\n",
       "1     Fenil  24      Surat        B-tech    Supervisor\n",
       "2       Jay  23  Ahmedabad         B.com     J.Manager\n",
       "3     Akash  22     Valsad           BBA  SeniorEditor\n",
       "4     Keyur  24    Navsari           MBA           NaN\n",
       "5     Priya  22     Mumbai            CS       Student\n",
       "6     Rashi  23     Jaipur        M-tech     Professor\n",
       "7    Ashish  24      Surat        B-tech       Manager\n",
       "8   Bhavesh  22  Ahmedabad           BCA           DAO\n",
       "9      Niki  24    Jodhpur         M.com           CEO\n",
       "10    pooja  22      surat          arts       student\n",
       "11    pooja  22      surat          arts       student\n",
       "12    pooja  22      surat          arts       student\n",
       "13    pooja  22      surat          arts       student"
      ]
     },
     "execution_count": 36,
     "metadata": {},
     "output_type": "execute_result"
    }
   ],
   "source": [
    "df"
   ]
  },
  {
   "cell_type": "code",
   "execution_count": null,
   "id": "da71bbe5",
   "metadata": {},
   "outputs": [],
   "source": [
    "#next lec. practice"
   ]
  },
  {
   "cell_type": "code",
   "execution_count": 12,
   "id": "75be642b",
   "metadata": {},
   "outputs": [
    {
     "name": "stdout",
     "output_type": "stream",
     "text": [
      "{'name': ['Pawan', 'Fenil', 'Jay', 'Akash', 'Keyur', 'Priya', 'Rashi', 'Ashish', 'Bhavesh', 'Niki'], 'Maths': ['83', nan, nan, '52', '24', nan, '93', nan, '92', '24'], 'Science': ['98', '38', '58', '76', nan, '22', nan, '84', '91', nan]}\n"
     ]
    }
   ],
   "source": [
    "#task\n",
    "#1. make a dataframe student coume1-mathes marks out of 50 , colum2-science marks out of 50 , \n",
    "#for 10 data-4 missing in math, 3 missing in science\n",
    "\n",
    "# creating a data frame using a dictionary\n",
    "dict2={'name':['Pawan','Fenil','Jay','Akash','Keyur','Priya','Rashi','Ashish','Bhavesh','Niki'],\n",
    "       'Maths':['83',np.nan,np.nan,'52','24',np.nan,'93',np.nan,'92','24'],\n",
    "       'Science':['98','38','58','76',np.nan,'22',np.nan,'84','91',np.nan]}\n",
    "print(dict2)"
   ]
  },
  {
   "cell_type": "code",
   "execution_count": 13,
   "id": "2d74c8c5",
   "metadata": {
    "scrolled": true
   },
   "outputs": [
    {
     "name": "stdout",
     "output_type": "stream",
     "text": [
      "      name Maths Science\n",
      "0    Pawan    83      98\n",
      "1    Fenil   NaN      38\n",
      "2      Jay   NaN      58\n",
      "3    Akash    52      76\n",
      "4    Keyur    24     NaN\n",
      "5    Priya   NaN      22\n",
      "6    Rashi    93     NaN\n",
      "7   Ashish   NaN      84\n",
      "8  Bhavesh    92      91\n",
      "9     Niki    24     NaN\n"
     ]
    }
   ],
   "source": [
    "df=pd.DataFrame(dict2)\n",
    "print(df)"
   ]
  },
  {
   "cell_type": "code",
   "execution_count": 14,
   "id": "f1dee3c6",
   "metadata": {},
   "outputs": [
    {
     "name": "stdout",
     "output_type": "stream",
     "text": [
      "      name Maths Science\n",
      "A    Pawan    83      98\n",
      "B    Fenil   NaN      38\n",
      "C      Jay   NaN      58\n",
      "D    Akash    52      76\n",
      "E    Keyur    24     NaN\n",
      "F    Priya   NaN      22\n",
      "H    Rashi    93     NaN\n",
      "I   Ashish   NaN      84\n",
      "J  Bhavesh    92      91\n",
      "K     Niki    24     NaN\n"
     ]
    }
   ],
   "source": [
    "# change index\n",
    "df0=pd.DataFrame(dict2,index=['A','B','C','D','E','F','H','I','J','K'])\n",
    "print(df0)"
   ]
  },
  {
   "cell_type": "code",
   "execution_count": 20,
   "id": "6411d4ea",
   "metadata": {
    "scrolled": true
   },
   "outputs": [
    {
     "data": {
      "text/plain": [
       "A    83\n",
       "B    24\n",
       "C    24\n",
       "D    52\n",
       "E    24\n",
       "F    24\n",
       "H    93\n",
       "I    24\n",
       "J    92\n",
       "K    24\n",
       "Name: Maths, dtype: object"
      ]
     },
     "execution_count": 20,
     "metadata": {},
     "output_type": "execute_result"
    }
   ],
   "source": [
    "#2. inpute the missing value by mean of the colum\n",
    "#maths\n",
    "df0['Maths'].fillna('24')"
   ]
  },
  {
   "cell_type": "code",
   "execution_count": 21,
   "id": "2d2127f4",
   "metadata": {
    "scrolled": true
   },
   "outputs": [
    {
     "data": {
      "text/plain": [
       "A    98\n",
       "B    38\n",
       "C    58\n",
       "D    76\n",
       "E    22\n",
       "F    22\n",
       "H    22\n",
       "I    84\n",
       "J    91\n",
       "K    22\n",
       "Name: Science, dtype: object"
      ]
     },
     "execution_count": 21,
     "metadata": {},
     "output_type": "execute_result"
    }
   ],
   "source": [
    "df0['Science'].fillna('22')"
   ]
  },
  {
   "cell_type": "code",
   "execution_count": null,
   "id": "cf3e1afb",
   "metadata": {},
   "outputs": [],
   "source": []
  },
  {
   "cell_type": "code",
   "execution_count": 23,
   "id": "2718514c",
   "metadata": {},
   "outputs": [],
   "source": [
    "#3. make a 3rd colum grade avrage which is avg. of math and science\n",
    "df['avrage']=['94','32','52','74','22','22','21','85','89','24']"
   ]
  },
  {
   "cell_type": "code",
   "execution_count": 24,
   "id": "0ff8a7cf",
   "metadata": {},
   "outputs": [
    {
     "data": {
      "text/html": [
       "<div>\n",
       "<style scoped>\n",
       "    .dataframe tbody tr th:only-of-type {\n",
       "        vertical-align: middle;\n",
       "    }\n",
       "\n",
       "    .dataframe tbody tr th {\n",
       "        vertical-align: top;\n",
       "    }\n",
       "\n",
       "    .dataframe thead th {\n",
       "        text-align: right;\n",
       "    }\n",
       "</style>\n",
       "<table border=\"1\" class=\"dataframe\">\n",
       "  <thead>\n",
       "    <tr style=\"text-align: right;\">\n",
       "      <th></th>\n",
       "      <th>name</th>\n",
       "      <th>Maths</th>\n",
       "      <th>Science</th>\n",
       "      <th>avrage</th>\n",
       "    </tr>\n",
       "  </thead>\n",
       "  <tbody>\n",
       "    <tr>\n",
       "      <th>0</th>\n",
       "      <td>Pawan</td>\n",
       "      <td>83</td>\n",
       "      <td>98</td>\n",
       "      <td>94</td>\n",
       "    </tr>\n",
       "    <tr>\n",
       "      <th>1</th>\n",
       "      <td>Fenil</td>\n",
       "      <td>NaN</td>\n",
       "      <td>38</td>\n",
       "      <td>32</td>\n",
       "    </tr>\n",
       "    <tr>\n",
       "      <th>2</th>\n",
       "      <td>Jay</td>\n",
       "      <td>NaN</td>\n",
       "      <td>58</td>\n",
       "      <td>52</td>\n",
       "    </tr>\n",
       "    <tr>\n",
       "      <th>3</th>\n",
       "      <td>Akash</td>\n",
       "      <td>52</td>\n",
       "      <td>76</td>\n",
       "      <td>74</td>\n",
       "    </tr>\n",
       "    <tr>\n",
       "      <th>4</th>\n",
       "      <td>Keyur</td>\n",
       "      <td>24</td>\n",
       "      <td>NaN</td>\n",
       "      <td>22</td>\n",
       "    </tr>\n",
       "    <tr>\n",
       "      <th>5</th>\n",
       "      <td>Priya</td>\n",
       "      <td>NaN</td>\n",
       "      <td>22</td>\n",
       "      <td>22</td>\n",
       "    </tr>\n",
       "    <tr>\n",
       "      <th>6</th>\n",
       "      <td>Rashi</td>\n",
       "      <td>93</td>\n",
       "      <td>NaN</td>\n",
       "      <td>21</td>\n",
       "    </tr>\n",
       "    <tr>\n",
       "      <th>7</th>\n",
       "      <td>Ashish</td>\n",
       "      <td>NaN</td>\n",
       "      <td>84</td>\n",
       "      <td>85</td>\n",
       "    </tr>\n",
       "    <tr>\n",
       "      <th>8</th>\n",
       "      <td>Bhavesh</td>\n",
       "      <td>92</td>\n",
       "      <td>91</td>\n",
       "      <td>89</td>\n",
       "    </tr>\n",
       "    <tr>\n",
       "      <th>9</th>\n",
       "      <td>Niki</td>\n",
       "      <td>24</td>\n",
       "      <td>NaN</td>\n",
       "      <td>24</td>\n",
       "    </tr>\n",
       "  </tbody>\n",
       "</table>\n",
       "</div>"
      ],
      "text/plain": [
       "      name Maths Science avrage\n",
       "0    Pawan    83      98     94\n",
       "1    Fenil   NaN      38     32\n",
       "2      Jay   NaN      58     52\n",
       "3    Akash    52      76     74\n",
       "4    Keyur    24     NaN     22\n",
       "5    Priya   NaN      22     22\n",
       "6    Rashi    93     NaN     21\n",
       "7   Ashish   NaN      84     85\n",
       "8  Bhavesh    92      91     89\n",
       "9     Niki    24     NaN     24"
      ]
     },
     "execution_count": 24,
     "metadata": {},
     "output_type": "execute_result"
    }
   ],
   "source": [
    "df"
   ]
  },
  {
   "cell_type": "code",
   "execution_count": 25,
   "id": "f69c2df1",
   "metadata": {},
   "outputs": [],
   "source": [
    "#4. make a 4th colum grade if marks is greater than 50 grade A else grade B\n",
    "df['grade']=['A','B','A','A','B','B','B','A','A','B']"
   ]
  },
  {
   "cell_type": "code",
   "execution_count": 26,
   "id": "69dae9ad",
   "metadata": {},
   "outputs": [
    {
     "data": {
      "text/html": [
       "<div>\n",
       "<style scoped>\n",
       "    .dataframe tbody tr th:only-of-type {\n",
       "        vertical-align: middle;\n",
       "    }\n",
       "\n",
       "    .dataframe tbody tr th {\n",
       "        vertical-align: top;\n",
       "    }\n",
       "\n",
       "    .dataframe thead th {\n",
       "        text-align: right;\n",
       "    }\n",
       "</style>\n",
       "<table border=\"1\" class=\"dataframe\">\n",
       "  <thead>\n",
       "    <tr style=\"text-align: right;\">\n",
       "      <th></th>\n",
       "      <th>name</th>\n",
       "      <th>Maths</th>\n",
       "      <th>Science</th>\n",
       "      <th>avrage</th>\n",
       "      <th>grade</th>\n",
       "    </tr>\n",
       "  </thead>\n",
       "  <tbody>\n",
       "    <tr>\n",
       "      <th>0</th>\n",
       "      <td>Pawan</td>\n",
       "      <td>83</td>\n",
       "      <td>98</td>\n",
       "      <td>94</td>\n",
       "      <td>A</td>\n",
       "    </tr>\n",
       "    <tr>\n",
       "      <th>1</th>\n",
       "      <td>Fenil</td>\n",
       "      <td>NaN</td>\n",
       "      <td>38</td>\n",
       "      <td>32</td>\n",
       "      <td>B</td>\n",
       "    </tr>\n",
       "    <tr>\n",
       "      <th>2</th>\n",
       "      <td>Jay</td>\n",
       "      <td>NaN</td>\n",
       "      <td>58</td>\n",
       "      <td>52</td>\n",
       "      <td>A</td>\n",
       "    </tr>\n",
       "    <tr>\n",
       "      <th>3</th>\n",
       "      <td>Akash</td>\n",
       "      <td>52</td>\n",
       "      <td>76</td>\n",
       "      <td>74</td>\n",
       "      <td>A</td>\n",
       "    </tr>\n",
       "    <tr>\n",
       "      <th>4</th>\n",
       "      <td>Keyur</td>\n",
       "      <td>24</td>\n",
       "      <td>NaN</td>\n",
       "      <td>22</td>\n",
       "      <td>B</td>\n",
       "    </tr>\n",
       "    <tr>\n",
       "      <th>5</th>\n",
       "      <td>Priya</td>\n",
       "      <td>NaN</td>\n",
       "      <td>22</td>\n",
       "      <td>22</td>\n",
       "      <td>B</td>\n",
       "    </tr>\n",
       "    <tr>\n",
       "      <th>6</th>\n",
       "      <td>Rashi</td>\n",
       "      <td>93</td>\n",
       "      <td>NaN</td>\n",
       "      <td>21</td>\n",
       "      <td>B</td>\n",
       "    </tr>\n",
       "    <tr>\n",
       "      <th>7</th>\n",
       "      <td>Ashish</td>\n",
       "      <td>NaN</td>\n",
       "      <td>84</td>\n",
       "      <td>85</td>\n",
       "      <td>A</td>\n",
       "    </tr>\n",
       "    <tr>\n",
       "      <th>8</th>\n",
       "      <td>Bhavesh</td>\n",
       "      <td>92</td>\n",
       "      <td>91</td>\n",
       "      <td>89</td>\n",
       "      <td>A</td>\n",
       "    </tr>\n",
       "    <tr>\n",
       "      <th>9</th>\n",
       "      <td>Niki</td>\n",
       "      <td>24</td>\n",
       "      <td>NaN</td>\n",
       "      <td>24</td>\n",
       "      <td>B</td>\n",
       "    </tr>\n",
       "  </tbody>\n",
       "</table>\n",
       "</div>"
      ],
      "text/plain": [
       "      name Maths Science avrage grade\n",
       "0    Pawan    83      98     94     A\n",
       "1    Fenil   NaN      38     32     B\n",
       "2      Jay   NaN      58     52     A\n",
       "3    Akash    52      76     74     A\n",
       "4    Keyur    24     NaN     22     B\n",
       "5    Priya   NaN      22     22     B\n",
       "6    Rashi    93     NaN     21     B\n",
       "7   Ashish   NaN      84     85     A\n",
       "8  Bhavesh    92      91     89     A\n",
       "9     Niki    24     NaN     24     B"
      ]
     },
     "execution_count": 26,
     "metadata": {},
     "output_type": "execute_result"
    }
   ],
   "source": [
    "df"
   ]
  },
  {
   "cell_type": "code",
   "execution_count": null,
   "id": "38a5952b",
   "metadata": {},
   "outputs": [],
   "source": []
  }
 ],
 "metadata": {
  "kernelspec": {
   "display_name": "Python 3 (ipykernel)",
   "language": "python",
   "name": "python3"
  },
  "language_info": {
   "codemirror_mode": {
    "name": "ipython",
    "version": 3
   },
   "file_extension": ".py",
   "mimetype": "text/x-python",
   "name": "python",
   "nbconvert_exporter": "python",
   "pygments_lexer": "ipython3",
   "version": "3.9.7"
  }
 },
 "nbformat": 4,
 "nbformat_minor": 5
}
