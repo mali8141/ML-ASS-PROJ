{
 "cells": [
  {
   "cell_type": "markdown",
   "id": "fe24e00e",
   "metadata": {},
   "source": [
    "## THEORY"
   ]
  },
  {
   "cell_type": "code",
   "execution_count": null,
   "id": "2422b842",
   "metadata": {},
   "outputs": [],
   "source": [
    "#supervised learning\n",
    "#and unsupervised learning\n",
    "#unlabled data,look for patterns or structure\n",
    "\n",
    "#uses for clustering\n",
    "#assign labels to cluster\n",
    "\n",
    "# indentify similar items\n",
    "#for suntitutes or recommendation\n",
    "#for de-duplicationb\n",
    "\n",
    "#types\n",
    "#hierarchical\n",
    "#a set of cluster orgenised\n",
    "\n",
    "#partitioning\n",
    "\n",
    "#k-mean algoritham\n",
    "\n",
    "#select k point as intial centroids\n",
    "#repeat\n",
    "#form k cluster by assihned all point\n",
    "#recompute the centroid of each cluster\n",
    "\n",
    "#detail of k-means\n",
    "#centroid coose randomly\n",
    "#clseness mearured by euelidean distance, cosine similarity\n",
    "\n",
    "#K mean-inertia\n",
    "#it calculated by distance\n"
   ]
  },
  {
   "cell_type": "markdown",
   "id": "2592ca1b",
   "metadata": {},
   "source": [
    "## K-mean Clustering PRACTICAL"
   ]
  },
  {
   "cell_type": "code",
   "execution_count": 36,
   "id": "c02badd1",
   "metadata": {},
   "outputs": [],
   "source": [
    "#IMPORT LIBRARIES\n",
    "import numpy as np\n",
    "import matplotlib.pyplot as plt\n",
    "import pandas as pd\n",
    "import seaborn as sns"
   ]
  },
  {
   "cell_type": "code",
   "execution_count": 37,
   "id": "b4a2f1de",
   "metadata": {},
   "outputs": [],
   "source": [
    "#import the data\n",
    "df=pd.read_csv('Mall_Customers.csv')\n"
   ]
  },
  {
   "cell_type": "code",
   "execution_count": 38,
   "id": "db956451",
   "metadata": {},
   "outputs": [
    {
     "data": {
      "text/html": [
       "<div>\n",
       "<style scoped>\n",
       "    .dataframe tbody tr th:only-of-type {\n",
       "        vertical-align: middle;\n",
       "    }\n",
       "\n",
       "    .dataframe tbody tr th {\n",
       "        vertical-align: top;\n",
       "    }\n",
       "\n",
       "    .dataframe thead th {\n",
       "        text-align: right;\n",
       "    }\n",
       "</style>\n",
       "<table border=\"1\" class=\"dataframe\">\n",
       "  <thead>\n",
       "    <tr style=\"text-align: right;\">\n",
       "      <th></th>\n",
       "      <th>CustomerID</th>\n",
       "      <th>Genre</th>\n",
       "      <th>Age</th>\n",
       "      <th>Annual Income (k$)</th>\n",
       "      <th>Spending Score (1-100)</th>\n",
       "    </tr>\n",
       "  </thead>\n",
       "  <tbody>\n",
       "    <tr>\n",
       "      <th>0</th>\n",
       "      <td>1</td>\n",
       "      <td>Male</td>\n",
       "      <td>19</td>\n",
       "      <td>15</td>\n",
       "      <td>39</td>\n",
       "    </tr>\n",
       "    <tr>\n",
       "      <th>1</th>\n",
       "      <td>2</td>\n",
       "      <td>Male</td>\n",
       "      <td>21</td>\n",
       "      <td>15</td>\n",
       "      <td>81</td>\n",
       "    </tr>\n",
       "    <tr>\n",
       "      <th>2</th>\n",
       "      <td>3</td>\n",
       "      <td>Female</td>\n",
       "      <td>20</td>\n",
       "      <td>16</td>\n",
       "      <td>6</td>\n",
       "    </tr>\n",
       "    <tr>\n",
       "      <th>3</th>\n",
       "      <td>4</td>\n",
       "      <td>Female</td>\n",
       "      <td>23</td>\n",
       "      <td>16</td>\n",
       "      <td>77</td>\n",
       "    </tr>\n",
       "    <tr>\n",
       "      <th>4</th>\n",
       "      <td>5</td>\n",
       "      <td>Female</td>\n",
       "      <td>31</td>\n",
       "      <td>17</td>\n",
       "      <td>40</td>\n",
       "    </tr>\n",
       "  </tbody>\n",
       "</table>\n",
       "</div>"
      ],
      "text/plain": [
       "   CustomerID   Genre  Age  Annual Income (k$)  Spending Score (1-100)\n",
       "0           1    Male   19                  15                      39\n",
       "1           2    Male   21                  15                      81\n",
       "2           3  Female   20                  16                       6\n",
       "3           4  Female   23                  16                      77\n",
       "4           5  Female   31                  17                      40"
      ]
     },
     "execution_count": 38,
     "metadata": {},
     "output_type": "execute_result"
    }
   ],
   "source": [
    "df.head()"
   ]
  },
  {
   "cell_type": "code",
   "execution_count": 39,
   "id": "30c84dd9",
   "metadata": {},
   "outputs": [
    {
     "data": {
      "text/plain": [
       "(200, 5)"
      ]
     },
     "execution_count": 39,
     "metadata": {},
     "output_type": "execute_result"
    }
   ],
   "source": [
    "df.shape"
   ]
  },
  {
   "cell_type": "code",
   "execution_count": 40,
   "id": "9022ea9b",
   "metadata": {},
   "outputs": [],
   "source": [
    "df=df.drop(['CustomerID'], axis=1)"
   ]
  },
  {
   "cell_type": "code",
   "execution_count": 41,
   "id": "1dff0b21",
   "metadata": {},
   "outputs": [
    {
     "data": {
      "text/plain": [
       "<bound method DataFrame.info of       Genre  Age  Annual Income (k$)  Spending Score (1-100)\n",
       "0      Male   19                  15                      39\n",
       "1      Male   21                  15                      81\n",
       "2    Female   20                  16                       6\n",
       "3    Female   23                  16                      77\n",
       "4    Female   31                  17                      40\n",
       "..      ...  ...                 ...                     ...\n",
       "195  Female   35                 120                      79\n",
       "196  Female   45                 126                      28\n",
       "197    Male   32                 126                      74\n",
       "198    Male   32                 137                      18\n",
       "199    Male   30                 137                      83\n",
       "\n",
       "[200 rows x 4 columns]>"
      ]
     },
     "execution_count": 41,
     "metadata": {},
     "output_type": "execute_result"
    }
   ],
   "source": [
    "df.info"
   ]
  },
  {
   "cell_type": "code",
   "execution_count": 42,
   "id": "b3bf5044",
   "metadata": {},
   "outputs": [
    {
     "data": {
      "text/plain": [
       "Female    112\n",
       "Male       88\n",
       "Name: Genre, dtype: int64"
      ]
     },
     "execution_count": 42,
     "metadata": {},
     "output_type": "execute_result"
    }
   ],
   "source": [
    "df['Genre'].value_counts()"
   ]
  },
  {
   "cell_type": "code",
   "execution_count": 43,
   "id": "ca97d674",
   "metadata": {},
   "outputs": [
    {
     "data": {
      "text/plain": [
       "<bound method NDFrame.head of       Genre  Age  Annual Income (k$)  Spending Score (1-100)\n",
       "0      Male   19                  15                      39\n",
       "1      Male   21                  15                      81\n",
       "2    Female   20                  16                       6\n",
       "3    Female   23                  16                      77\n",
       "4    Female   31                  17                      40\n",
       "..      ...  ...                 ...                     ...\n",
       "195  Female   35                 120                      79\n",
       "196  Female   45                 126                      28\n",
       "197    Male   32                 126                      74\n",
       "198    Male   32                 137                      18\n",
       "199    Male   30                 137                      83\n",
       "\n",
       "[200 rows x 4 columns]>"
      ]
     },
     "execution_count": 43,
     "metadata": {},
     "output_type": "execute_result"
    }
   ],
   "source": [
    "df.head"
   ]
  },
  {
   "cell_type": "code",
   "execution_count": 44,
   "id": "2777f40e",
   "metadata": {},
   "outputs": [],
   "source": [
    "df['Genre']=df['Genre'].map({'Female':0,'Male':1})"
   ]
  },
  {
   "cell_type": "code",
   "execution_count": 45,
   "id": "9a9c7d0b",
   "metadata": {},
   "outputs": [
    {
     "data": {
      "text/html": [
       "<div>\n",
       "<style scoped>\n",
       "    .dataframe tbody tr th:only-of-type {\n",
       "        vertical-align: middle;\n",
       "    }\n",
       "\n",
       "    .dataframe tbody tr th {\n",
       "        vertical-align: top;\n",
       "    }\n",
       "\n",
       "    .dataframe thead th {\n",
       "        text-align: right;\n",
       "    }\n",
       "</style>\n",
       "<table border=\"1\" class=\"dataframe\">\n",
       "  <thead>\n",
       "    <tr style=\"text-align: right;\">\n",
       "      <th></th>\n",
       "      <th>Genre</th>\n",
       "      <th>Age</th>\n",
       "      <th>Annual Income (k$)</th>\n",
       "      <th>Spending Score (1-100)</th>\n",
       "    </tr>\n",
       "  </thead>\n",
       "  <tbody>\n",
       "    <tr>\n",
       "      <th>0</th>\n",
       "      <td>1</td>\n",
       "      <td>19</td>\n",
       "      <td>15</td>\n",
       "      <td>39</td>\n",
       "    </tr>\n",
       "    <tr>\n",
       "      <th>1</th>\n",
       "      <td>1</td>\n",
       "      <td>21</td>\n",
       "      <td>15</td>\n",
       "      <td>81</td>\n",
       "    </tr>\n",
       "    <tr>\n",
       "      <th>2</th>\n",
       "      <td>0</td>\n",
       "      <td>20</td>\n",
       "      <td>16</td>\n",
       "      <td>6</td>\n",
       "    </tr>\n",
       "    <tr>\n",
       "      <th>3</th>\n",
       "      <td>0</td>\n",
       "      <td>23</td>\n",
       "      <td>16</td>\n",
       "      <td>77</td>\n",
       "    </tr>\n",
       "    <tr>\n",
       "      <th>4</th>\n",
       "      <td>0</td>\n",
       "      <td>31</td>\n",
       "      <td>17</td>\n",
       "      <td>40</td>\n",
       "    </tr>\n",
       "  </tbody>\n",
       "</table>\n",
       "</div>"
      ],
      "text/plain": [
       "   Genre  Age  Annual Income (k$)  Spending Score (1-100)\n",
       "0      1   19                  15                      39\n",
       "1      1   21                  15                      81\n",
       "2      0   20                  16                       6\n",
       "3      0   23                  16                      77\n",
       "4      0   31                  17                      40"
      ]
     },
     "execution_count": 45,
     "metadata": {},
     "output_type": "execute_result"
    }
   ],
   "source": [
    "df.head()"
   ]
  },
  {
   "cell_type": "code",
   "execution_count": 46,
   "id": "38738c9f",
   "metadata": {},
   "outputs": [],
   "source": [
    "x=df.iloc[:,:].values"
   ]
  },
  {
   "cell_type": "code",
   "execution_count": 47,
   "id": "84f560ca",
   "metadata": {},
   "outputs": [
    {
     "data": {
      "text/plain": [
       "array([[  1,  19,  15,  39],\n",
       "       [  1,  21,  15,  81],\n",
       "       [  0,  20,  16,   6],\n",
       "       [  0,  23,  16,  77],\n",
       "       [  0,  31,  17,  40],\n",
       "       [  0,  22,  17,  76],\n",
       "       [  0,  35,  18,   6],\n",
       "       [  0,  23,  18,  94],\n",
       "       [  1,  64,  19,   3],\n",
       "       [  0,  30,  19,  72],\n",
       "       [  1,  67,  19,  14],\n",
       "       [  0,  35,  19,  99],\n",
       "       [  0,  58,  20,  15],\n",
       "       [  0,  24,  20,  77],\n",
       "       [  1,  37,  20,  13],\n",
       "       [  1,  22,  20,  79],\n",
       "       [  0,  35,  21,  35],\n",
       "       [  1,  20,  21,  66],\n",
       "       [  1,  52,  23,  29],\n",
       "       [  0,  35,  23,  98],\n",
       "       [  1,  35,  24,  35],\n",
       "       [  1,  25,  24,  73],\n",
       "       [  0,  46,  25,   5],\n",
       "       [  1,  31,  25,  73],\n",
       "       [  0,  54,  28,  14],\n",
       "       [  1,  29,  28,  82],\n",
       "       [  0,  45,  28,  32],\n",
       "       [  1,  35,  28,  61],\n",
       "       [  0,  40,  29,  31],\n",
       "       [  0,  23,  29,  87],\n",
       "       [  1,  60,  30,   4],\n",
       "       [  0,  21,  30,  73],\n",
       "       [  1,  53,  33,   4],\n",
       "       [  1,  18,  33,  92],\n",
       "       [  0,  49,  33,  14],\n",
       "       [  0,  21,  33,  81],\n",
       "       [  0,  42,  34,  17],\n",
       "       [  0,  30,  34,  73],\n",
       "       [  0,  36,  37,  26],\n",
       "       [  0,  20,  37,  75],\n",
       "       [  0,  65,  38,  35],\n",
       "       [  1,  24,  38,  92],\n",
       "       [  1,  48,  39,  36],\n",
       "       [  0,  31,  39,  61],\n",
       "       [  0,  49,  39,  28],\n",
       "       [  0,  24,  39,  65],\n",
       "       [  0,  50,  40,  55],\n",
       "       [  0,  27,  40,  47],\n",
       "       [  0,  29,  40,  42],\n",
       "       [  0,  31,  40,  42],\n",
       "       [  0,  49,  42,  52],\n",
       "       [  1,  33,  42,  60],\n",
       "       [  0,  31,  43,  54],\n",
       "       [  1,  59,  43,  60],\n",
       "       [  0,  50,  43,  45],\n",
       "       [  1,  47,  43,  41],\n",
       "       [  0,  51,  44,  50],\n",
       "       [  1,  69,  44,  46],\n",
       "       [  0,  27,  46,  51],\n",
       "       [  1,  53,  46,  46],\n",
       "       [  1,  70,  46,  56],\n",
       "       [  1,  19,  46,  55],\n",
       "       [  0,  67,  47,  52],\n",
       "       [  0,  54,  47,  59],\n",
       "       [  1,  63,  48,  51],\n",
       "       [  1,  18,  48,  59],\n",
       "       [  0,  43,  48,  50],\n",
       "       [  0,  68,  48,  48],\n",
       "       [  1,  19,  48,  59],\n",
       "       [  0,  32,  48,  47],\n",
       "       [  1,  70,  49,  55],\n",
       "       [  0,  47,  49,  42],\n",
       "       [  0,  60,  50,  49],\n",
       "       [  0,  60,  50,  56],\n",
       "       [  1,  59,  54,  47],\n",
       "       [  1,  26,  54,  54],\n",
       "       [  0,  45,  54,  53],\n",
       "       [  1,  40,  54,  48],\n",
       "       [  0,  23,  54,  52],\n",
       "       [  0,  49,  54,  42],\n",
       "       [  1,  57,  54,  51],\n",
       "       [  1,  38,  54,  55],\n",
       "       [  1,  67,  54,  41],\n",
       "       [  0,  46,  54,  44],\n",
       "       [  0,  21,  54,  57],\n",
       "       [  1,  48,  54,  46],\n",
       "       [  0,  55,  57,  58],\n",
       "       [  0,  22,  57,  55],\n",
       "       [  0,  34,  58,  60],\n",
       "       [  0,  50,  58,  46],\n",
       "       [  0,  68,  59,  55],\n",
       "       [  1,  18,  59,  41],\n",
       "       [  1,  48,  60,  49],\n",
       "       [  0,  40,  60,  40],\n",
       "       [  0,  32,  60,  42],\n",
       "       [  1,  24,  60,  52],\n",
       "       [  0,  47,  60,  47],\n",
       "       [  0,  27,  60,  50],\n",
       "       [  1,  48,  61,  42],\n",
       "       [  1,  20,  61,  49],\n",
       "       [  0,  23,  62,  41],\n",
       "       [  0,  49,  62,  48],\n",
       "       [  1,  67,  62,  59],\n",
       "       [  1,  26,  62,  55],\n",
       "       [  1,  49,  62,  56],\n",
       "       [  0,  21,  62,  42],\n",
       "       [  0,  66,  63,  50],\n",
       "       [  1,  54,  63,  46],\n",
       "       [  1,  68,  63,  43],\n",
       "       [  1,  66,  63,  48],\n",
       "       [  1,  65,  63,  52],\n",
       "       [  0,  19,  63,  54],\n",
       "       [  0,  38,  64,  42],\n",
       "       [  1,  19,  64,  46],\n",
       "       [  0,  18,  65,  48],\n",
       "       [  0,  19,  65,  50],\n",
       "       [  0,  63,  65,  43],\n",
       "       [  0,  49,  65,  59],\n",
       "       [  0,  51,  67,  43],\n",
       "       [  0,  50,  67,  57],\n",
       "       [  1,  27,  67,  56],\n",
       "       [  0,  38,  67,  40],\n",
       "       [  0,  40,  69,  58],\n",
       "       [  1,  39,  69,  91],\n",
       "       [  0,  23,  70,  29],\n",
       "       [  0,  31,  70,  77],\n",
       "       [  1,  43,  71,  35],\n",
       "       [  1,  40,  71,  95],\n",
       "       [  1,  59,  71,  11],\n",
       "       [  1,  38,  71,  75],\n",
       "       [  1,  47,  71,   9],\n",
       "       [  1,  39,  71,  75],\n",
       "       [  0,  25,  72,  34],\n",
       "       [  0,  31,  72,  71],\n",
       "       [  1,  20,  73,   5],\n",
       "       [  0,  29,  73,  88],\n",
       "       [  0,  44,  73,   7],\n",
       "       [  1,  32,  73,  73],\n",
       "       [  1,  19,  74,  10],\n",
       "       [  0,  35,  74,  72],\n",
       "       [  0,  57,  75,   5],\n",
       "       [  1,  32,  75,  93],\n",
       "       [  0,  28,  76,  40],\n",
       "       [  0,  32,  76,  87],\n",
       "       [  1,  25,  77,  12],\n",
       "       [  1,  28,  77,  97],\n",
       "       [  1,  48,  77,  36],\n",
       "       [  0,  32,  77,  74],\n",
       "       [  0,  34,  78,  22],\n",
       "       [  1,  34,  78,  90],\n",
       "       [  1,  43,  78,  17],\n",
       "       [  1,  39,  78,  88],\n",
       "       [  0,  44,  78,  20],\n",
       "       [  0,  38,  78,  76],\n",
       "       [  0,  47,  78,  16],\n",
       "       [  0,  27,  78,  89],\n",
       "       [  1,  37,  78,   1],\n",
       "       [  0,  30,  78,  78],\n",
       "       [  1,  34,  78,   1],\n",
       "       [  0,  30,  78,  73],\n",
       "       [  0,  56,  79,  35],\n",
       "       [  0,  29,  79,  83],\n",
       "       [  1,  19,  81,   5],\n",
       "       [  0,  31,  81,  93],\n",
       "       [  1,  50,  85,  26],\n",
       "       [  0,  36,  85,  75],\n",
       "       [  1,  42,  86,  20],\n",
       "       [  0,  33,  86,  95],\n",
       "       [  0,  36,  87,  27],\n",
       "       [  1,  32,  87,  63],\n",
       "       [  1,  40,  87,  13],\n",
       "       [  1,  28,  87,  75],\n",
       "       [  1,  36,  87,  10],\n",
       "       [  1,  36,  87,  92],\n",
       "       [  0,  52,  88,  13],\n",
       "       [  0,  30,  88,  86],\n",
       "       [  1,  58,  88,  15],\n",
       "       [  1,  27,  88,  69],\n",
       "       [  1,  59,  93,  14],\n",
       "       [  1,  35,  93,  90],\n",
       "       [  0,  37,  97,  32],\n",
       "       [  0,  32,  97,  86],\n",
       "       [  1,  46,  98,  15],\n",
       "       [  0,  29,  98,  88],\n",
       "       [  0,  41,  99,  39],\n",
       "       [  1,  30,  99,  97],\n",
       "       [  0,  54, 101,  24],\n",
       "       [  1,  28, 101,  68],\n",
       "       [  0,  41, 103,  17],\n",
       "       [  0,  36, 103,  85],\n",
       "       [  0,  34, 103,  23],\n",
       "       [  0,  32, 103,  69],\n",
       "       [  1,  33, 113,   8],\n",
       "       [  0,  38, 113,  91],\n",
       "       [  0,  47, 120,  16],\n",
       "       [  0,  35, 120,  79],\n",
       "       [  0,  45, 126,  28],\n",
       "       [  1,  32, 126,  74],\n",
       "       [  1,  32, 137,  18],\n",
       "       [  1,  30, 137,  83]], dtype=int64)"
      ]
     },
     "execution_count": 47,
     "metadata": {},
     "output_type": "execute_result"
    }
   ],
   "source": [
    "x"
   ]
  },
  {
   "cell_type": "code",
   "execution_count": 48,
   "id": "846aacc3",
   "metadata": {},
   "outputs": [],
   "source": [
    "from sklearn.cluster import KMeans"
   ]
  },
  {
   "cell_type": "code",
   "execution_count": 49,
   "id": "c562a637",
   "metadata": {},
   "outputs": [],
   "source": [
    "km=KMeans()"
   ]
  },
  {
   "cell_type": "code",
   "execution_count": 50,
   "id": "db970740",
   "metadata": {},
   "outputs": [
    {
     "data": {
      "text/plain": [
       "KMeans()"
      ]
     },
     "execution_count": 50,
     "metadata": {},
     "output_type": "execute_result"
    }
   ],
   "source": [
    "km.fit(x)"
   ]
  },
  {
   "cell_type": "code",
   "execution_count": 51,
   "id": "5a09193e",
   "metadata": {},
   "outputs": [],
   "source": [
    "pred=km.predict(x)"
   ]
  },
  {
   "cell_type": "code",
   "execution_count": 52,
   "id": "7efadad6",
   "metadata": {},
   "outputs": [
    {
     "data": {
      "text/plain": [
       "array([0, 5, 0, 5, 0, 5, 0, 5, 0, 5, 0, 5, 0, 5, 0, 5, 0, 5, 0, 5, 0, 5,\n",
       "       0, 5, 0, 5, 0, 5, 0, 5, 0, 5, 0, 5, 0, 5, 0, 5, 0, 5, 1, 5, 0, 3,\n",
       "       0, 5, 1, 3, 3, 3, 1, 3, 3, 1, 1, 1, 1, 1, 3, 1, 1, 3, 1, 1, 1, 3,\n",
       "       1, 1, 3, 3, 1, 1, 1, 1, 1, 3, 1, 3, 3, 1, 1, 3, 1, 1, 3, 1, 1, 3,\n",
       "       3, 1, 1, 3, 1, 3, 3, 3, 1, 3, 1, 3, 3, 1, 1, 3, 1, 3, 1, 1, 1, 1,\n",
       "       1, 3, 3, 3, 3, 3, 1, 1, 1, 1, 3, 3, 3, 2, 7, 2, 7, 2, 7, 2, 7, 2,\n",
       "       3, 2, 7, 2, 7, 2, 7, 2, 7, 2, 3, 2, 7, 2, 7, 2, 7, 2, 7, 2, 7, 2,\n",
       "       7, 2, 7, 2, 7, 2, 7, 2, 7, 2, 7, 2, 7, 2, 7, 2, 7, 2, 7, 2, 7, 2,\n",
       "       7, 2, 7, 2, 4, 6, 4, 6, 4, 6, 4, 6, 4, 6, 4, 6, 4, 6, 4, 6, 4, 6,\n",
       "       4, 6])"
      ]
     },
     "execution_count": 52,
     "metadata": {},
     "output_type": "execute_result"
    }
   ],
   "source": [
    "pred"
   ]
  },
  {
   "cell_type": "code",
   "execution_count": 53,
   "id": "329c2d4c",
   "metadata": {},
   "outputs": [],
   "source": [
    "df['Cluster_label']=pred"
   ]
  },
  {
   "cell_type": "code",
   "execution_count": 54,
   "id": "c47dabee",
   "metadata": {
    "scrolled": true
   },
   "outputs": [
    {
     "data": {
      "text/html": [
       "<div>\n",
       "<style scoped>\n",
       "    .dataframe tbody tr th:only-of-type {\n",
       "        vertical-align: middle;\n",
       "    }\n",
       "\n",
       "    .dataframe tbody tr th {\n",
       "        vertical-align: top;\n",
       "    }\n",
       "\n",
       "    .dataframe thead th {\n",
       "        text-align: right;\n",
       "    }\n",
       "</style>\n",
       "<table border=\"1\" class=\"dataframe\">\n",
       "  <thead>\n",
       "    <tr style=\"text-align: right;\">\n",
       "      <th></th>\n",
       "      <th>Genre</th>\n",
       "      <th>Age</th>\n",
       "      <th>Annual Income (k$)</th>\n",
       "      <th>Spending Score (1-100)</th>\n",
       "      <th>Cluster_label</th>\n",
       "    </tr>\n",
       "  </thead>\n",
       "  <tbody>\n",
       "    <tr>\n",
       "      <th>121</th>\n",
       "      <td>0</td>\n",
       "      <td>38</td>\n",
       "      <td>67</td>\n",
       "      <td>40</td>\n",
       "      <td>3</td>\n",
       "    </tr>\n",
       "    <tr>\n",
       "      <th>100</th>\n",
       "      <td>0</td>\n",
       "      <td>23</td>\n",
       "      <td>62</td>\n",
       "      <td>41</td>\n",
       "      <td>3</td>\n",
       "    </tr>\n",
       "    <tr>\n",
       "      <th>73</th>\n",
       "      <td>0</td>\n",
       "      <td>60</td>\n",
       "      <td>50</td>\n",
       "      <td>56</td>\n",
       "      <td>1</td>\n",
       "    </tr>\n",
       "    <tr>\n",
       "      <th>103</th>\n",
       "      <td>1</td>\n",
       "      <td>26</td>\n",
       "      <td>62</td>\n",
       "      <td>55</td>\n",
       "      <td>3</td>\n",
       "    </tr>\n",
       "    <tr>\n",
       "      <th>180</th>\n",
       "      <td>0</td>\n",
       "      <td>37</td>\n",
       "      <td>97</td>\n",
       "      <td>32</td>\n",
       "      <td>4</td>\n",
       "    </tr>\n",
       "    <tr>\n",
       "      <th>15</th>\n",
       "      <td>1</td>\n",
       "      <td>22</td>\n",
       "      <td>20</td>\n",
       "      <td>79</td>\n",
       "      <td>5</td>\n",
       "    </tr>\n",
       "    <tr>\n",
       "      <th>137</th>\n",
       "      <td>1</td>\n",
       "      <td>32</td>\n",
       "      <td>73</td>\n",
       "      <td>73</td>\n",
       "      <td>2</td>\n",
       "    </tr>\n",
       "    <tr>\n",
       "      <th>59</th>\n",
       "      <td>1</td>\n",
       "      <td>53</td>\n",
       "      <td>46</td>\n",
       "      <td>46</td>\n",
       "      <td>1</td>\n",
       "    </tr>\n",
       "    <tr>\n",
       "      <th>123</th>\n",
       "      <td>1</td>\n",
       "      <td>39</td>\n",
       "      <td>69</td>\n",
       "      <td>91</td>\n",
       "      <td>2</td>\n",
       "    </tr>\n",
       "    <tr>\n",
       "      <th>167</th>\n",
       "      <td>0</td>\n",
       "      <td>33</td>\n",
       "      <td>86</td>\n",
       "      <td>95</td>\n",
       "      <td>2</td>\n",
       "    </tr>\n",
       "  </tbody>\n",
       "</table>\n",
       "</div>"
      ],
      "text/plain": [
       "     Genre  Age  Annual Income (k$)  Spending Score (1-100)  Cluster_label\n",
       "121      0   38                  67                      40              3\n",
       "100      0   23                  62                      41              3\n",
       "73       0   60                  50                      56              1\n",
       "103      1   26                  62                      55              3\n",
       "180      0   37                  97                      32              4\n",
       "15       1   22                  20                      79              5\n",
       "137      1   32                  73                      73              2\n",
       "59       1   53                  46                      46              1\n",
       "123      1   39                  69                      91              2\n",
       "167      0   33                  86                      95              2"
      ]
     },
     "execution_count": 54,
     "metadata": {},
     "output_type": "execute_result"
    }
   ],
   "source": [
    "df.sample(10)"
   ]
  },
  {
   "cell_type": "code",
   "execution_count": 55,
   "id": "0236f4af",
   "metadata": {},
   "outputs": [
    {
     "data": {
      "text/plain": [
       "<bound method IndexOpsMixin.value_counts of 0      0\n",
       "1      5\n",
       "2      0\n",
       "3      5\n",
       "4      0\n",
       "      ..\n",
       "195    6\n",
       "196    4\n",
       "197    6\n",
       "198    4\n",
       "199    6\n",
       "Name: Cluster_label, Length: 200, dtype: int32>"
      ]
     },
     "execution_count": 55,
     "metadata": {},
     "output_type": "execute_result"
    }
   ],
   "source": [
    "df['Cluster_label'].value_counts"
   ]
  },
  {
   "cell_type": "code",
   "execution_count": 56,
   "id": "2b0f0801",
   "metadata": {},
   "outputs": [
    {
     "name": "stderr",
     "output_type": "stream",
     "text": [
      "C:\\Users\\Dell\\anaconda3\\lib\\site-packages\\sklearn\\cluster\\_kmeans.py:881: UserWarning: KMeans is known to have a memory leak on Windows with MKL, when there are less chunks than available threads. You can avoid it by setting the environment variable OMP_NUM_THREADS=1.\n",
      "  warnings.warn(\n"
     ]
    },
    {
     "data": {
      "image/png": "[encoded data removed]",
      "text/plain": [
       "<Figure size 432x288 with 1 Axes>"
      ]
     },
     "metadata": {
      "needs_background": "light"
     },
     "output_type": "display_data"
    }
   ],
   "source": [
    "#using the elbow method to find the optional number of clusters\n",
    "\n",
    "inertia=[]\n",
    "for i in range(1,11):\n",
    "    kmeans=KMeans(n_clusters=i,random_state=42)\n",
    "    kmeans.fit(x)\n",
    "    inertia.append(kmeans.inertia_)\n",
    "    \n",
    "plt.plot(range(1,11), inertia)\n",
    "plt.title('the elbow method')\n",
    "plt.xlabel('number of clusters')\n",
    "plt.ylabel('inertia')\n",
    "plt.show()"
   ]
  },
  {
   "cell_type": "code",
   "execution_count": 57,
   "id": "9a7203ee",
   "metadata": {},
   "outputs": [],
   "source": [
    "#training the k-mean model on the dataset\n",
    "kmeans=KMeans(n_clusters=5,random_state=42)\n",
    "y_kmeans=kmeans.fit_predict(x)"
   ]
  },
  {
   "cell_type": "code",
   "execution_count": 59,
   "id": "bc8c6b5a",
   "metadata": {},
   "outputs": [
    {
     "data": {
      "image/png": "[encoded data removed]",
      "text/plain": [
       "<Figure size 432x288 with 1 Axes>"
      ]
     },
     "metadata": {
      "needs_background": "light"
     },
     "output_type": "display_data"
    }
   ],
   "source": [
    "plt.scatter(x[y_kmeans==0, 0],x[y_kmeans==0, 1], s=10, c='red', label='Cluster 1')\n",
    "plt.scatter(x[y_kmeans==1, 0],x[y_kmeans==1, 1], s=10, c='blue', label='Cluster 2')\n",
    "plt.scatter(x[y_kmeans==2, 0],x[y_kmeans==2, 1], s=10, c='green', label='Cluster 3')\n",
    "plt.scatter(x[y_kmeans==3, 0],x[y_kmeans==3, 1], s=10, c='cyan', label='Cluster 4')\n",
    "plt.scatter(x[y_kmeans==4, 0],x[y_kmeans==4, 1], s=10, c='magenta', label='Cluster 5')\n",
    "plt.scatter(kmeans.cluster_centers_[:, 0],kmeans.cluster_centers_[:,1], s=30, c='yellow', label='Centroids')\n",
    "plt.title('clusters of customers')\n",
    "plt.xlabel('anual income (k$)')\n",
    "plt.ylabel('spending score (1-100)')\n",
    "plt.legend()\n",
    "plt.show()"
   ]
  },
  {
   "cell_type": "code",
   "execution_count": null,
   "id": "03599dde",
   "metadata": {},
   "outputs": [],
   "source": []
  },
  {
   "cell_type": "code",
   "execution_count": null,
   "id": "31b3ad2c",
   "metadata": {},
   "outputs": [],
   "source": []
  }
 ],
 "metadata": {
  "kernelspec": {
   "display_name": "Python 3 (ipykernel)",
   "language": "python",
   "name": "python3"
  },
  "language_info": {
   "codemirror_mode": {
    "name": "ipython",
    "version": 3
   },
   "file_extension": ".py",
   "mimetype": "text/x-python",
   "name": "python",
   "nbconvert_exporter": "python",
   "pygments_lexer": "ipython3",
   "version": "3.9.7"
  }
 },
 "nbformat": 4,
 "nbformat_minor": 5
}
