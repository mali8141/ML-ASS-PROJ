{
 "cells": [
  {
   "cell_type": "markdown",
   "id": "c8d299a1",
   "metadata": {},
   "source": [
    "## NUMPY "
   ]
  },
  {
   "cell_type": "code",
   "execution_count": 2,
   "id": "7764e982",
   "metadata": {},
   "outputs": [],
   "source": [
    "import numpy  as np"
   ]
  },
  {
   "cell_type": "code",
   "execution_count": 3,
   "id": "c8a00aa7",
   "metadata": {},
   "outputs": [
    {
     "name": "stdout",
     "output_type": "stream",
     "text": [
      "[[1 2 3]]\n"
     ]
    }
   ],
   "source": [
    "#1. Write a program to find and manipulate the shape of ndarray.\n",
    "# 1-d array\n",
    "l1=[1,2,3]\n",
    "arr1 = np.array ([l1])\n",
    "print(arr1)"
   ]
  },
  {
   "cell_type": "code",
   "execution_count": 4,
   "id": "b4375ca5",
   "metadata": {},
   "outputs": [
    {
     "name": "stdout",
     "output_type": "stream",
     "text": [
      "[[[1 2 3]]\n",
      "\n",
      " [[4 5 6]]\n",
      "\n",
      " [[7 8 9]]]\n"
     ]
    }
   ],
   "source": [
    "# 2-d array\n",
    "l2=[4,5,6]\n",
    "l3=[7,8,9]\n",
    "arr2 = np.array([[l1],[l2],[l3]])\n",
    "print(arr2)\n"
   ]
  },
  {
   "cell_type": "code",
   "execution_count": 5,
   "id": "aad17249",
   "metadata": {},
   "outputs": [
    {
     "name": "stdout",
     "output_type": "stream",
     "text": [
      "[[[[1 2 3]]\n",
      "\n",
      "  [[4 5 6]]]\n",
      "\n",
      "\n",
      " [[[7 8 9]]\n",
      "\n",
      "  [[1 2 3]]]\n",
      "\n",
      "\n",
      " [[[4 5 6]]\n",
      "\n",
      "  [[7 8 9]]]]\n"
     ]
    }
   ],
   "source": [
    "# 3-d array\n",
    "arr3 = np.array([[[l1],[l2]],[[l3],[l1]],[[l2],[l3]]])\n",
    "print(arr3)"
   ]
  },
  {
   "cell_type": "code",
   "execution_count": 8,
   "id": "151c2805",
   "metadata": {},
   "outputs": [
    {
     "name": "stdout",
     "output_type": "stream",
     "text": [
      "Array A is:\n",
      "[[ 0  1  2  3]\n",
      " [ 4  5  6  7]\n",
      " [ 8  9 10 11]\n",
      " [12 13 14 15]]\n",
      "Array B is:\n",
      "[[ 0  1]\n",
      " [ 4  5]\n",
      " [ 8  9]\n",
      " [12 13]]\n",
      "Array C is:\n",
      "[[ 2  3]\n",
      " [ 6  7]\n",
      " [10 11]\n",
      " [14 15]]\n"
     ]
    }
   ],
   "source": [
    "#2. Write a program to divide a range into 5 equal parts.\n",
    "A = np.arange(16).reshape((4, 4))\n",
    "print('Array A is:')\n",
    "print(A)\n",
    "[B,C] = np.hsplit(A, 2)\n",
    "print('Array B is:')\n",
    "print(B)\n",
    "print('Array C is:')\n",
    "print(C)"
   ]
  },
  {
   "cell_type": "code",
   "execution_count": 3,
   "id": "8cea4708",
   "metadata": {},
   "outputs": [
    {
     "name": "stdout",
     "output_type": "stream",
     "text": [
      "4\n"
     ]
    }
   ],
   "source": [
    "#3. Write a program to find the logarithmic value of numbers from 31 to 40.\n",
    "# Python3 program to find log(n) using Inbuilt\n",
    "\n",
    "# Function of math library\n",
    "import math\n",
    "\n",
    "if __name__ == \"__main__\":\n",
    "    n = 31\n",
    "\n",
    "    print(int(math.log(n, 2)))\n"
   ]
  },
  {
   "cell_type": "code",
   "execution_count": 4,
   "id": "4e06c27c",
   "metadata": {},
   "outputs": [
    {
     "name": "stdout",
     "output_type": "stream",
     "text": [
      "First array:\n",
      "[[0.71794433 0.03470223 0.62085544]\n",
      " [0.51049679 0.36232996 0.23208218]\n",
      " [0.22734359 0.36895784 0.74009587]\n",
      " [0.65779433 0.51979939 0.9599676 ]\n",
      " [0.58997202 0.58823785 0.93734611]]\n",
      "Second array:\n",
      "[[0.35005847 0.30841467]\n",
      " [0.63112664 0.23198108]\n",
      " [0.96020705 0.42062918]]\n",
      "Dot product of two arrays:\n",
      "[[0.86937376 0.49062474]\n",
      " [0.63022677 0.33911893]\n",
      " [1.02308794 0.46701326]\n",
      " [1.48009338 0.72724743]\n",
      " [1.47782362 0.7126912 ]]\n"
     ]
    }
   ],
   "source": [
    "#4. Write a program to create a 3x2 matrix containing zeros and another matrix containing one only.\n",
    "import numpy as np\n",
    "x = np.random.random((5,3))\n",
    "print(\"First array:\")\n",
    "print(x)\n",
    "y = np.random.random((3,2))\n",
    "print(\"Second array:\")\n",
    "print(y)\n",
    "z = np.dot(x, y)\n",
    "print(\"Dot product of two arrays:\")\n",
    "print(z)\n"
   ]
  },
  {
   "cell_type": "code",
   "execution_count": 7,
   "id": "4bcef93c",
   "metadata": {},
   "outputs": [
    {
     "name": "stdout",
     "output_type": "stream",
     "text": [
      "Array is of type:  <class 'numpy.ndarray'>\n",
      "No. of dimensions:  2\n",
      "Shape of array:  (2, 3)\n",
      "Size of array:  6\n",
      "Array stores elements of type:  int32\n"
     ]
    }
   ],
   "source": [
    "#5. Write a program to convert regular array into an ndarray.\n",
    "# Python program to demonstrate \n",
    "# basic array characteristics\n",
    "import numpy as np\n",
    " \n",
    "# Creating array object\n",
    "arr = np.array( [[ 1, 2, 3],\n",
    "                 [ 4, 2, 5]] )\n",
    " \n",
    "# Printing type of arr object\n",
    "print(\"Array is of type: \", type(arr))\n",
    " \n",
    "# Printing array dimensions (axes)\n",
    "print(\"No. of dimensions: \", arr.ndim)\n",
    " \n",
    "# Printing shape of array\n",
    "print(\"Shape of array: \", arr.shape)\n",
    " \n",
    "# Printing size (total number of elements) of array\n",
    "print(\"Size of array: \", arr.size)\n",
    " \n",
    "# Printing type of elements in array\n",
    "print(\"Array stores elements of type: \", arr.dtype)"
   ]
  },
  {
   "cell_type": "code",
   "execution_count": 31,
   "id": "7f5086b2",
   "metadata": {},
   "outputs": [
    {
     "data": {
      "text/plain": [
       "array(['pawan'], dtype='<U5')"
      ]
     },
     "execution_count": 31,
     "metadata": {},
     "output_type": "execute_result"
    }
   ],
   "source": [
    "#6. Write a program to create an ndarray containing characters of a string.\n",
    "\n",
    "b = np.array([ 'pawan' ])\n",
    "b"
   ]
  },
  {
   "cell_type": "code",
   "execution_count": 33,
   "id": "fb8cf133",
   "metadata": {},
   "outputs": [
    {
     "name": "stdout",
     "output_type": "stream",
     "text": [
      "[2 3 4 5]\n"
     ]
    }
   ],
   "source": [
    "#7. Explain slicing in Numpy.\n",
    "import numpy as np\n",
    "\n",
    "arr = np.array([1, 2, 3, 4, 5, 6, 7])\n",
    "\n",
    "print(arr[1:5])"
   ]
  },
  {
   "cell_type": "code",
   "execution_count": 34,
   "id": "c9f6009f",
   "metadata": {},
   "outputs": [
    {
     "data": {
      "text/plain": [
       "array([[1, 6],\n",
       "       [3, 4]])"
      ]
     },
     "execution_count": 34,
     "metadata": {},
     "output_type": "execute_result"
    }
   ],
   "source": [
    "#8. How can we use conditions in Numpy within an array?\n",
    "# Python program explaining\n",
    "# where() function\n",
    "\n",
    "import numpy as np\n",
    "\n",
    "np.where([[True, False], [True, True]],\n",
    "        [[1, 2], [3, 4]], [[5, 6], [7, 8]])\n"
   ]
  },
  {
   "cell_type": "code",
   "execution_count": 36,
   "id": "922ece41",
   "metadata": {},
   "outputs": [
    {
     "name": "stdout",
     "output_type": "stream",
     "text": [
      "Result matrix is\n",
      "1  2  3  4  \n",
      "1  2  3  4  \n",
      "1  2  3  4  \n",
      "1  2  3  4  \n"
     ]
    }
   ],
   "source": [
    "#9. Write a program to find transpose of two metrics and then perform addition on them.\n",
    "# Python3 Program to find\n",
    "# transpose of a matrix\n",
    "\n",
    "N = 4\n",
    "\n",
    "# This function stores\n",
    "# transpose of A[][] in B[][]\n",
    "\n",
    "def transpose(A,B):\n",
    "\n",
    "    for i in range(N):\n",
    "        for j in range(N):\n",
    "            B[i][j] = A[j][i]\n",
    "\n",
    "# driver code\n",
    "A = [ [1, 1, 1, 1],[2, 2, 2, 2],[3, 3, 3, 3],[4, 4, 4, 4]]\n",
    "\n",
    "\n",
    "B = [[0,0,0,0],[0,0,0,0],[0,0,0,0],[0,0,0,0]] # To store result\n",
    "\n",
    "transpose(A, B)\n",
    "\n",
    "print(\"Result matrix is\")\n",
    "for i in range(N):\n",
    "    for j in range(N):\n",
    "        print(B[i][j], \" \", end='')\n",
    "    print()\n",
    "\n",
    "\n"
   ]
  },
  {
   "cell_type": "code",
   "execution_count": 37,
   "id": "5da6a664",
   "metadata": {},
   "outputs": [
    {
     "name": "stdout",
     "output_type": "stream",
     "text": [
      "[[1 2 3]]\n"
     ]
    }
   ],
   "source": [
    "#10. How to convert an ndarray into a 1D array?\n",
    "l1=[1,2,3]\n",
    "arr1 = np.array ([l1])\n",
    "print(arr1)"
   ]
  },
  {
   "cell_type": "code",
   "execution_count": 38,
   "id": "d9b45760",
   "metadata": {},
   "outputs": [
    {
     "name": "stdout",
     "output_type": "stream",
     "text": [
      "[[0 1 2]\n",
      " [3 4 5]]\n",
      "(2, 3)\n",
      "[[[0]\n",
      "  [1]\n",
      "  [2]]\n",
      "\n",
      " [[3]\n",
      "  [4]\n",
      "  [5]]]\n",
      "(2, 3, 1)\n"
     ]
    }
   ],
   "source": [
    "#11. How to remove or add a new dimension in ndarray?\n",
    "a = np.arange(6).reshape(2, 3)\n",
    "print(a)\n",
    "\n",
    "print(a.shape)\n",
    "\n",
    "print(a[:, :, np.newaxis])\n",
    "\n",
    "print(a[:, :, np.newaxis].shape)"
   ]
  },
  {
   "cell_type": "code",
   "execution_count": 42,
   "id": "2087399c",
   "metadata": {},
   "outputs": [
    {
     "name": "stdout",
     "output_type": "stream",
     "text": [
      "[array([[[0.35005847, 0.30841467, 0.63112664],\n",
      "        [0.23198108, 0.96020705, 0.42062918]]])]\n"
     ]
    }
   ],
   "source": [
    "#12. How to append, insert and delete new elements in ndarray?\n",
    "A = []\n",
    "X = np.ndarray((1,2,3))\n",
    "A.append(X)\n",
    "\n",
    "print(A)"
   ]
  },
  {
   "cell_type": "code",
   "execution_count": 43,
   "id": "bf001c0e",
   "metadata": {},
   "outputs": [
    {
     "name": "stdout",
     "output_type": "stream",
     "text": [
      "First array:\n",
      "[[0. 1.]\n",
      " [2. 3.]]\n",
      "\n",
      "Second array:\n",
      "[12 12]\n",
      "\n",
      "Adding the two arrays:\n",
      "[[12. 13.]\n",
      " [14. 15.]]\n",
      "\n",
      "Subtracting the two arrays:\n",
      "[[-12. -11.]\n",
      " [-10.  -9.]]\n",
      "\n",
      "Multiplying the two arrays:\n",
      "[[ 0. 12.]\n",
      " [24. 36.]]\n",
      "\n",
      "Dividing the two arrays:\n",
      "[[0.         0.08333333]\n",
      " [0.16666667 0.25      ]]\n"
     ]
    }
   ],
   "source": [
    "#13. Write a program to explain various string manipulation methods on Numpy arrays.\n",
    "# Python code to perform arithmetic\n",
    "# operations on NumPy array\n",
    "\n",
    "\n",
    "import numpy as np\n",
    "\n",
    "\n",
    "# Initializing the array\n",
    "arr1 = np.arange(4, dtype = np.float_).reshape(2, 2)\n",
    "\n",
    "print('First array:')\n",
    "print(arr1)\n",
    "\n",
    "print('\\nSecond array:')\n",
    "arr2 = np.array([12, 12])\n",
    "print(arr2)\n",
    "\n",
    "print('\\nAdding the two arrays:')\n",
    "print(np.add(arr1, arr2))\n",
    "\n",
    "print('\\nSubtracting the two arrays:')\n",
    "print(np.subtract(arr1, arr2))\n",
    "\n",
    "print('\\nMultiplying the two arrays:')\n",
    "print(np.multiply(arr1, arr2))\n",
    "\n",
    "print('\\nDividing the two arrays:')\n",
    "print(np.divide(arr1, arr2))\n"
   ]
  },
  {
   "cell_type": "code",
   "execution_count": 44,
   "id": "0fc31c8c",
   "metadata": {},
   "outputs": [
    {
     "name": "stdout",
     "output_type": "stream",
     "text": [
      "[  7  77  23 130]\n",
      "[  7  77  23 130]\n",
      "[  8  79  26 134]\n",
      "[  7  77  23 130]\n"
     ]
    }
   ],
   "source": [
    "#14. Write a program to perform various arithmetic functions on Numpy arrays. \n",
    "import numpy as np\n",
    "\n",
    "# Defining both the matrices\n",
    "a = np.array([5, 72, 13, 100])\n",
    "b = np.array([2, 5, 10, 30])\n",
    "\n",
    "# Performing addition using arithmetic operator\n",
    "add_ans = a+b\n",
    "print(add_ans)\n",
    "\n",
    "# Performing addition using numpy function\n",
    "add_ans = np.add(a, b)\n",
    "print(add_ans)\n",
    "\n",
    "# The same functions and operations can be used for multiple matrices\n",
    "c = np.array([1, 2, 3, 4])\n",
    "add_ans = a+b+c\n",
    "print(add_ans)\n",
    "\n",
    "add_ans = np.add(a, b, c)\n",
    "print(add_ans)\n"
   ]
  },
  {
   "cell_type": "code",
   "execution_count": 45,
   "id": "8e3865b6",
   "metadata": {},
   "outputs": [
    {
     "name": "stdout",
     "output_type": "stream",
     "text": [
      "The element wise addition of matrix is : \n",
      "[[ 8 10]\n",
      " [13 15]]\n",
      "The element wise subtraction of matrix is : \n",
      "[[-6 -6]\n",
      " [-5 -5]]\n",
      "The element wise division of matrix is : \n",
      "[[0.14285714 0.25      ]\n",
      " [0.44444444 0.5       ]]\n"
     ]
    }
   ],
   "source": [
    "#15. Write a program to explain matrix manipulation using ndarrays.\n",
    "# Python code to demonstrate matrix operations\n",
    "# add(), subtract() and divide()\n",
    "\n",
    "# importing numpy for matrix operations\n",
    "import numpy\n",
    "\n",
    "# initializing matrices\n",
    "x = numpy.array([[1, 2], [4, 5]])\n",
    "y = numpy.array([[7, 8], [9, 10]])\n",
    "\n",
    "# using add() to add matrices\n",
    "print (\"The element wise addition of matrix is : \")\n",
    "print (numpy.add(x,y))\n",
    "\n",
    "# using subtract() to subtract matrices\n",
    "print (\"The element wise subtraction of matrix is : \")\n",
    "print (numpy.subtract(x,y))\n",
    "\n",
    "# using divide() to divide matrices\n",
    "print (\"The element wise division of matrix is : \")\n",
    "print (numpy.divide(x,y))\n"
   ]
  },
  {
   "cell_type": "code",
   "execution_count": 47,
   "id": "7ae3a256",
   "metadata": {},
   "outputs": [],
   "source": [
    "#16. How to perform I/O operations on ndarrays?\n"
   ]
  },
  {
   "cell_type": "markdown",
   "id": "7d2b47d9",
   "metadata": {},
   "source": [
    "## PANDAS"
   ]
  },
  {
   "cell_type": "code",
   "execution_count": null,
   "id": "348f5281",
   "metadata": {},
   "outputs": [],
   "source": [
    "#17. Explain Series, DataFrame and Panel in Pandas.\n"
   ]
  },
  {
   "cell_type": "code",
   "execution_count": null,
   "id": "ea22294f",
   "metadata": {},
   "outputs": [],
   "source": [
    "#18. Write a program to concat two DataFrames.\n"
   ]
  },
  {
   "cell_type": "code",
   "execution_count": null,
   "id": "d7c773b1",
   "metadata": {},
   "outputs": [],
   "source": [
    "#19. Write a program to perform custom addition function on a DataFrame.\n"
   ]
  },
  {
   "cell_type": "code",
   "execution_count": null,
   "id": "3dfc001e",
   "metadata": {},
   "outputs": [],
   "source": [
    "#20. Write a program to group a DataFrame by various categories.\n"
   ]
  },
  {
   "cell_type": "code",
   "execution_count": null,
   "id": "74ad793b",
   "metadata": {},
   "outputs": [],
   "source": [
    "#21. Explain indexing in Dataframe.\n"
   ]
  },
  {
   "cell_type": "code",
   "execution_count": null,
   "id": "854405d2",
   "metadata": {},
   "outputs": [],
   "source": [
    "#22. Write a program to merge two DataFrames.\n"
   ]
  },
  {
   "cell_type": "code",
   "execution_count": null,
   "id": "3d80b94a",
   "metadata": {},
   "outputs": [],
   "source": [
    "#23. Write a program to handle missing data from DataFrame.\n"
   ]
  },
  {
   "cell_type": "code",
   "execution_count": null,
   "id": "3e3664f5",
   "metadata": {},
   "outputs": [],
   "source": [
    "#24. Write program to create bar chart, box chart, area plot, scatter plot and pie chart from a DataFrame.\n"
   ]
  },
  {
   "cell_type": "code",
   "execution_count": null,
   "id": "3a52dbbc",
   "metadata": {},
   "outputs": [],
   "source": [
    "#25. What is the difference between rand() and randn() methods.\n"
   ]
  },
  {
   "cell_type": "code",
   "execution_count": null,
   "id": "54051e21",
   "metadata": {},
   "outputs": [],
   "source": [
    "#26. Explain reindexing in Pandas.\n"
   ]
  },
  {
   "cell_type": "code",
   "execution_count": null,
   "id": "d57198e3",
   "metadata": {},
   "outputs": [],
   "source": [
    "#27. How to perform sorting on DataFrames.\n"
   ]
  },
  {
   "cell_type": "code",
   "execution_count": null,
   "id": "850a45f2",
   "metadata": {},
   "outputs": [],
   "source": [
    "#28. How to perform SQL commands like DDL & DML using Pandas.\n"
   ]
  },
  {
   "cell_type": "code",
   "execution_count": null,
   "id": "29ff504d",
   "metadata": {},
   "outputs": [],
   "source": [
    "#29. Explain string manipulation in Pandas."
   ]
  },
  {
   "cell_type": "markdown",
   "id": "8e7f9fec",
   "metadata": {},
   "source": [
    "## SCIPY"
   ]
  },
  {
   "cell_type": "code",
   "execution_count": null,
   "id": "df3d25f1",
   "metadata": {},
   "outputs": [],
   "source": [
    "\n",
    "#30. How to perform algebra operations using Scipy?\n"
   ]
  },
  {
   "cell_type": "code",
   "execution_count": null,
   "id": "d208bcea",
   "metadata": {},
   "outputs": [],
   "source": [
    "#31. Write a program to perform Fourier transformation.\n"
   ]
  },
  {
   "cell_type": "code",
   "execution_count": null,
   "id": "324684da",
   "metadata": {},
   "outputs": [],
   "source": [
    "#32. Write a program to perform image processing using Scipy.\n"
   ]
  },
  {
   "cell_type": "code",
   "execution_count": null,
   "id": "00af47bf",
   "metadata": {},
   "outputs": [],
   "source": [
    "#33. How to find integration and interpolation using Scipy?\n"
   ]
  },
  {
   "cell_type": "code",
   "execution_count": null,
   "id": "9db3cc1e",
   "metadata": {},
   "outputs": [],
   "source": [
    "#34. Explain I/O operations using Scipy.\n"
   ]
  },
  {
   "cell_type": "markdown",
   "id": "78a342c0",
   "metadata": {},
   "source": [
    "## MATPLOTLIB\n"
   ]
  },
  {
   "cell_type": "code",
   "execution_count": null,
   "id": "63fe1db9",
   "metadata": {},
   "outputs": [],
   "source": [
    "#35. Explain different properties of plot() method.\n"
   ]
  },
  {
   "cell_type": "code",
   "execution_count": null,
   "id": "ee12e314",
   "metadata": {},
   "outputs": [],
   "source": [
    "#36. Write a program to create a line graph using Matplotlib.\n"
   ]
  },
  {
   "cell_type": "code",
   "execution_count": null,
   "id": "c71090cf",
   "metadata": {},
   "outputs": [],
   "source": [
    "#37. Write a program to create a scatter plot using Matplotlib.\n"
   ]
  },
  {
   "cell_type": "code",
   "execution_count": null,
   "id": "d3ce40ca",
   "metadata": {},
   "outputs": [],
   "source": [
    "#38. Write a program to create a bar chart using Matplotlib.\n"
   ]
  },
  {
   "cell_type": "code",
   "execution_count": null,
   "id": "3bbae3a3",
   "metadata": {},
   "outputs": [],
   "source": [
    "#39. Write a program to create a histogram using Matplotlib.\n"
   ]
  },
  {
   "cell_type": "code",
   "execution_count": null,
   "id": "4c27407b",
   "metadata": {},
   "outputs": [],
   "source": [
    "#40. Write a program to create a pie chart using Matplotlib.\n"
   ]
  },
  {
   "cell_type": "code",
   "execution_count": null,
   "id": "3b2cde86",
   "metadata": {},
   "outputs": [],
   "source": [
    "#41. Write a program to plot categorical data using Matplotlib.\n"
   ]
  },
  {
   "cell_type": "code",
   "execution_count": null,
   "id": "08be333f",
   "metadata": {},
   "outputs": [],
   "source": [
    "#42. Write a program to add a pinpoint in a graph using Matplotlib.\n"
   ]
  },
  {
   "cell_type": "code",
   "execution_count": null,
   "id": "7ac2c130",
   "metadata": {},
   "outputs": [],
   "source": [
    "#43. Write a program to add extra text into a graph using Matplotlib.\n"
   ]
  },
  {
   "cell_type": "code",
   "execution_count": null,
   "id": "a9b57af2",
   "metadata": {},
   "outputs": [],
   "source": [
    "#44. Write a program to create multiple graph within a graph using Matplotlib."
   ]
  }
 ],
 "metadata": {
  "kernelspec": {
   "display_name": "Python 3 (ipykernel)",
   "language": "python",
   "name": "python3"
  },
  "language_info": {
   "codemirror_mode": {
    "name": "ipython",
    "version": 3
   },
   "file_extension": ".py",
   "mimetype": "text/x-python",
   "name": "python",
   "nbconvert_exporter": "python",
   "pygments_lexer": "ipython3",
   "version": "3.9.7"
  }
 },
 "nbformat": 4,
 "nbformat_minor": 5
}
