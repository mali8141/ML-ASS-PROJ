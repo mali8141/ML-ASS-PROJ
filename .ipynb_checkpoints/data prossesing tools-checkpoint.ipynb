{
 "cells": [
  {
   "cell_type": "code",
   "execution_count": 15,
   "id": "59f0ce26",
   "metadata": {},
   "outputs": [],
   "source": [
    "import numpy as np\n",
    "import matplotlib.pyplot as plt\n",
    "import pandas as pd\n",
    "import seaborn as sns"
   ]
  },
  {
   "cell_type": "code",
   "execution_count": 2,
   "id": "51311853",
   "metadata": {},
   "outputs": [],
   "source": [
    "dataset=pd.read_excel('MLDATA2.xlsx')"
   ]
  },
  {
   "cell_type": "code",
   "execution_count": 3,
   "id": "da286802",
   "metadata": {
    "scrolled": false
   },
   "outputs": [
    {
     "data": {
      "text/html": [
       "<div>\n",
       "<style scoped>\n",
       "    .dataframe tbody tr th:only-of-type {\n",
       "        vertical-align: middle;\n",
       "    }\n",
       "\n",
       "    .dataframe tbody tr th {\n",
       "        vertical-align: top;\n",
       "    }\n",
       "\n",
       "    .dataframe thead th {\n",
       "        text-align: right;\n",
       "    }\n",
       "</style>\n",
       "<table border=\"1\" class=\"dataframe\">\n",
       "  <thead>\n",
       "    <tr style=\"text-align: right;\">\n",
       "      <th></th>\n",
       "      <th>country</th>\n",
       "      <th>age</th>\n",
       "      <th>salary</th>\n",
       "      <th>purcheshed</th>\n",
       "    </tr>\n",
       "  </thead>\n",
       "  <tbody>\n",
       "    <tr>\n",
       "      <th>0</th>\n",
       "      <td>france</td>\n",
       "      <td>44.0</td>\n",
       "      <td>72000.0</td>\n",
       "      <td>NO</td>\n",
       "    </tr>\n",
       "    <tr>\n",
       "      <th>1</th>\n",
       "      <td>spain</td>\n",
       "      <td>27.0</td>\n",
       "      <td>48000.0</td>\n",
       "      <td>YES</td>\n",
       "    </tr>\n",
       "    <tr>\n",
       "      <th>2</th>\n",
       "      <td>germany</td>\n",
       "      <td>30.0</td>\n",
       "      <td>54000.0</td>\n",
       "      <td>NO</td>\n",
       "    </tr>\n",
       "    <tr>\n",
       "      <th>3</th>\n",
       "      <td>spain</td>\n",
       "      <td>38.0</td>\n",
       "      <td>61000.0</td>\n",
       "      <td>NO</td>\n",
       "    </tr>\n",
       "    <tr>\n",
       "      <th>4</th>\n",
       "      <td>germany</td>\n",
       "      <td>40.0</td>\n",
       "      <td>NaN</td>\n",
       "      <td>YES</td>\n",
       "    </tr>\n",
       "    <tr>\n",
       "      <th>5</th>\n",
       "      <td>france</td>\n",
       "      <td>35.0</td>\n",
       "      <td>58000.0</td>\n",
       "      <td>YES</td>\n",
       "    </tr>\n",
       "    <tr>\n",
       "      <th>6</th>\n",
       "      <td>spain</td>\n",
       "      <td>NaN</td>\n",
       "      <td>52000.0</td>\n",
       "      <td>NO</td>\n",
       "    </tr>\n",
       "    <tr>\n",
       "      <th>7</th>\n",
       "      <td>france</td>\n",
       "      <td>48.0</td>\n",
       "      <td>79000.0</td>\n",
       "      <td>YES</td>\n",
       "    </tr>\n",
       "    <tr>\n",
       "      <th>8</th>\n",
       "      <td>germany</td>\n",
       "      <td>50.0</td>\n",
       "      <td>83000.0</td>\n",
       "      <td>NO</td>\n",
       "    </tr>\n",
       "    <tr>\n",
       "      <th>9</th>\n",
       "      <td>france</td>\n",
       "      <td>37.0</td>\n",
       "      <td>67000.0</td>\n",
       "      <td>YES</td>\n",
       "    </tr>\n",
       "  </tbody>\n",
       "</table>\n",
       "</div>"
      ],
      "text/plain": [
       "   country   age   salary purcheshed\n",
       "0   france  44.0  72000.0         NO\n",
       "1    spain  27.0  48000.0        YES\n",
       "2  germany  30.0  54000.0         NO\n",
       "3    spain  38.0  61000.0         NO\n",
       "4  germany  40.0      NaN        YES\n",
       "5   france  35.0  58000.0        YES\n",
       "6    spain   NaN  52000.0         NO\n",
       "7   france  48.0  79000.0        YES\n",
       "8  germany  50.0  83000.0         NO\n",
       "9   france  37.0  67000.0        YES"
      ]
     },
     "execution_count": 3,
     "metadata": {},
     "output_type": "execute_result"
    }
   ],
   "source": [
    "dataset"
   ]
  },
  {
   "cell_type": "code",
   "execution_count": null,
   "id": "16966320",
   "metadata": {},
   "outputs": [],
   "source": []
  },
  {
   "cell_type": "code",
   "execution_count": null,
   "id": "f1641138",
   "metadata": {},
   "outputs": [],
   "source": []
  },
  {
   "cell_type": "code",
   "execution_count": null,
   "id": "1a6c55e6",
   "metadata": {},
   "outputs": [],
   "source": []
  },
  {
   "cell_type": "code",
   "execution_count": 4,
   "id": "9dce012e",
   "metadata": {},
   "outputs": [
    {
     "name": "stdout",
     "output_type": "stream",
     "text": [
      "<class 'pandas.core.frame.DataFrame'>\n",
      "RangeIndex: 10 entries, 0 to 9\n",
      "Data columns (total 4 columns):\n",
      " #   Column      Non-Null Count  Dtype  \n",
      "---  ------      --------------  -----  \n",
      " 0   country     10 non-null     object \n",
      " 1   age         9 non-null      float64\n",
      " 2   salary      9 non-null      float64\n",
      " 3   purcheshed  10 non-null     object \n",
      "dtypes: float64(2), object(2)\n",
      "memory usage: 448.0+ bytes\n"
     ]
    }
   ],
   "source": [
    "dataset.info()"
   ]
  },
  {
   "cell_type": "code",
   "execution_count": 5,
   "id": "b8e27341",
   "metadata": {},
   "outputs": [],
   "source": [
    "x=dataset.iloc[:, :-1].values\n",
    "y=dataset.iloc[:, -1].values"
   ]
  },
  {
   "cell_type": "code",
   "execution_count": 6,
   "id": "a5098b63",
   "metadata": {},
   "outputs": [
    {
     "name": "stdout",
     "output_type": "stream",
     "text": [
      "[['france' 44.0 72000.0]\n",
      " ['spain' 27.0 48000.0]\n",
      " ['germany' 30.0 54000.0]\n",
      " ['spain' 38.0 61000.0]\n",
      " ['germany' 40.0 nan]\n",
      " ['france' 35.0 58000.0]\n",
      " ['spain' nan 52000.0]\n",
      " ['france' 48.0 79000.0]\n",
      " ['germany' 50.0 83000.0]\n",
      " ['france' 37.0 67000.0]]\n"
     ]
    }
   ],
   "source": [
    "print(x)"
   ]
  },
  {
   "cell_type": "code",
   "execution_count": 7,
   "id": "d49432c0",
   "metadata": {},
   "outputs": [
    {
     "name": "stdout",
     "output_type": "stream",
     "text": [
      "['NO' 'YES' 'NO' 'NO' 'YES' 'YES' 'NO' 'YES' 'NO' 'YES']\n"
     ]
    }
   ],
   "source": [
    "print(y)"
   ]
  },
  {
   "cell_type": "code",
   "execution_count": 8,
   "id": "9a22fa9c",
   "metadata": {},
   "outputs": [],
   "source": [
    "# strategy = 'mean'---> when colum has no outliers\n",
    "# strategy = 'median'---> when colum has outliers\n",
    "#outliers ---> when the is too far from other data"
   ]
  },
  {
   "cell_type": "code",
   "execution_count": 9,
   "id": "a82a53a1",
   "metadata": {},
   "outputs": [],
   "source": [
    "from sklearn.impute import SimpleImputer"
   ]
  },
  {
   "cell_type": "code",
   "execution_count": 10,
   "id": "6bd0f5dc",
   "metadata": {},
   "outputs": [],
   "source": [
    "imputer = SimpleImputer(missing_values=np.nan, strategy='mean')"
   ]
  },
  {
   "cell_type": "code",
   "execution_count": 11,
   "id": "f792e365",
   "metadata": {
    "scrolled": true
   },
   "outputs": [
    {
     "data": {
      "text/plain": [
       "SimpleImputer()"
      ]
     },
     "execution_count": 11,
     "metadata": {},
     "output_type": "execute_result"
    }
   ],
   "source": [
    "imputer.fit(x[:, 1:3])"
   ]
  },
  {
   "cell_type": "code",
   "execution_count": 12,
   "id": "4c98ceb6",
   "metadata": {},
   "outputs": [],
   "source": [
    "x[:, 1:3]= imputer.transform(x[:, 1:3])"
   ]
  },
  {
   "cell_type": "code",
   "execution_count": 13,
   "id": "105b273a",
   "metadata": {},
   "outputs": [
    {
     "name": "stdout",
     "output_type": "stream",
     "text": [
      "[['france' 44.0 72000.0]\n",
      " ['spain' 27.0 48000.0]\n",
      " ['germany' 30.0 54000.0]\n",
      " ['spain' 38.0 61000.0]\n",
      " ['germany' 40.0 63777.77777777778]\n",
      " ['france' 35.0 58000.0]\n",
      " ['spain' 38.77777777777778 52000.0]\n",
      " ['france' 48.0 79000.0]\n",
      " ['germany' 50.0 83000.0]\n",
      " ['france' 37.0 67000.0]]\n"
     ]
    }
   ],
   "source": [
    "print(x)"
   ]
  },
  {
   "cell_type": "code",
   "execution_count": 17,
   "id": "013a22b4",
   "metadata": {},
   "outputs": [
    {
     "data": {
      "image/png": "[encoded data removed]",
      "text/plain": [
       "<Figure size 432x288 with 1 Axes>"
      ]
     },
     "metadata": {
      "needs_background": "light"
     },
     "output_type": "display_data"
    }
   ],
   "source": [
    "sns.boxplot(y=x[:,2])\n",
    "plt.show()"
   ]
  },
  {
   "cell_type": "code",
   "execution_count": 18,
   "id": "ee6364c8",
   "metadata": {},
   "outputs": [
    {
     "data": {
      "image/png": "[encoded data removed]",
      "text/plain": [
       "<Figure size 432x288 with 1 Axes>"
      ]
     },
     "metadata": {
      "needs_background": "light"
     },
     "output_type": "display_data"
    }
   ],
   "source": [
    "sns.boxplot(y=x[:,1])\n",
    "plt.show()"
   ]
  },
  {
   "cell_type": "markdown",
   "id": "5c619c84",
   "metadata": {},
   "source": [
    "## encoding catagorical data"
   ]
  },
  {
   "cell_type": "code",
   "execution_count": null,
   "id": "c87a4d5b",
   "metadata": {
    "scrolled": false
   },
   "outputs": [],
   "source": [
    "# creating enitial dataframe\n",
    "gender =['male','female','female','female','male','female']\n",
    "gender_df= pd.DataFrame(gender, columns=['Gender'])"
   ]
  },
  {
   "cell_type": "code",
   "execution_count": null,
   "id": "7d1b53d6",
   "metadata": {},
   "outputs": [],
   "source": [
    "gender_df"
   ]
  },
  {
   "cell_type": "code",
   "execution_count": null,
   "id": "cf16a4de",
   "metadata": {},
   "outputs": [],
   "source": [
    "# binary tabel"
   ]
  },
  {
   "cell_type": "code",
   "execution_count": null,
   "id": "77fa6ce6",
   "metadata": {},
   "outputs": [],
   "source": [
    "gender_df['Gender'] = gender_df['Gender'].map({'male':1, 'female':0})"
   ]
  },
  {
   "cell_type": "code",
   "execution_count": null,
   "id": "396adc49",
   "metadata": {},
   "outputs": [],
   "source": [
    "# multiple tabel"
   ]
  },
  {
   "cell_type": "code",
   "execution_count": null,
   "id": "6e3cb9cf",
   "metadata": {},
   "outputs": [],
   "source": [
    "marital_status = ['unmarried','divorced','married','divorced','unmarried','married']"
   ]
  },
  {
   "cell_type": "code",
   "execution_count": null,
   "id": "25b5ae39",
   "metadata": {},
   "outputs": [],
   "source": [
    "gender_df['Marital_Status']=marital_status"
   ]
  },
  {
   "cell_type": "code",
   "execution_count": null,
   "id": "f0605e2c",
   "metadata": {},
   "outputs": [],
   "source": [
    "gender_df"
   ]
  },
  {
   "cell_type": "code",
   "execution_count": null,
   "id": "5f014c02",
   "metadata": {},
   "outputs": [],
   "source": [
    "df1 = pd.get_dummies(gender_df['Marital_Status'])"
   ]
  },
  {
   "cell_type": "code",
   "execution_count": null,
   "id": "b686023d",
   "metadata": {},
   "outputs": [],
   "source": [
    "df1"
   ]
  },
  {
   "cell_type": "code",
   "execution_count": null,
   "id": "c135c407",
   "metadata": {},
   "outputs": [],
   "source": [
    "gender_df  = pd.concat([gender_df,df1],axis=1)"
   ]
  },
  {
   "cell_type": "code",
   "execution_count": null,
   "id": "77200ca4",
   "metadata": {},
   "outputs": [],
   "source": [
    "gender_df"
   ]
  },
  {
   "cell_type": "code",
   "execution_count": null,
   "id": "29bafc1a",
   "metadata": {},
   "outputs": [],
   "source": [
    "gender_df.drop(['Marital_Status'],axis=1,inplace=True)"
   ]
  },
  {
   "cell_type": "code",
   "execution_count": null,
   "id": "5d2ef8b6",
   "metadata": {
    "scrolled": true
   },
   "outputs": [],
   "source": [
    "gender_df"
   ]
  },
  {
   "cell_type": "code",
   "execution_count": null,
   "id": "357b2487",
   "metadata": {},
   "outputs": [],
   "source": []
  }
 ],
 "metadata": {
  "kernelspec": {
   "display_name": "Python 3 (ipykernel)",
   "language": "python",
   "name": "python3"
  },
  "language_info": {
   "codemirror_mode": {
    "name": "ipython",
    "version": 3
   },
   "file_extension": ".py",
   "mimetype": "text/x-python",
   "name": "python",
   "nbconvert_exporter": "python",
   "pygments_lexer": "ipython3",
   "version": "3.9.7"
  }
 },
 "nbformat": 4,
 "nbformat_minor": 5
}
