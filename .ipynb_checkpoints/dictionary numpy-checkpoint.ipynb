{
 "cells": [
  {
   "cell_type": "code",
   "execution_count": 3,
   "id": "49238944",
   "metadata": {},
   "outputs": [
    {
     "name": "stdout",
     "output_type": "stream",
     "text": [
      "[1, 2, 3, 4, 5, 6, 7, 8]\n"
     ]
    }
   ],
   "source": [
    "l1 = [1,2,3,4,5,6,7,8]\n",
    "print(l1)\n"
   ]
  },
  {
   "cell_type": "code",
   "execution_count": 8,
   "id": "4ae89a74",
   "metadata": {},
   "outputs": [],
   "source": [
    "import numpy  as np\n",
    "# classes ---attrections (charateritistics of dsta) , function(some set instructions to manipulate that data)"
   ]
  },
  {
   "cell_type": "code",
   "execution_count": 9,
   "id": "efb7d40c",
   "metadata": {},
   "outputs": [
    {
     "name": "stdout",
     "output_type": "stream",
     "text": [
      "[1]\n",
      "<class 'numpy.ndarray'>\n"
     ]
    }
   ],
   "source": [
    "# zero dim array\n",
    "arr1 = np.array([1])\n",
    "print(arr1)\n",
    "print(type(arr1))"
   ]
  },
  {
   "cell_type": "code",
   "execution_count": 11,
   "id": "6c802a9f",
   "metadata": {},
   "outputs": [
    {
     "name": "stdout",
     "output_type": "stream",
     "text": [
      "[1 2 3 4 5]\n",
      "<class 'numpy.ndarray'>\n"
     ]
    }
   ],
   "source": [
    "# one-dim array\n",
    "arr2 = np.array([1,2,3,4,5])\n",
    "print(arr2)\n",
    "print(type(arr2))"
   ]
  },
  {
   "cell_type": "code",
   "execution_count": 14,
   "id": "af489507",
   "metadata": {},
   "outputs": [
    {
     "name": "stdout",
     "output_type": "stream",
     "text": [
      "[[1 2 3]\n",
      " [4 5 6]\n",
      " [7 8 9]]\n",
      "<class 'numpy.ndarray'>\n"
     ]
    }
   ],
   "source": [
    "# two-dim array\n",
    "arr3 = np.array([[1,2,3],[4,5,6],[7,8,9]])\n",
    "print(arr3)\n",
    "print(type(arr3))"
   ]
  },
  {
   "cell_type": "code",
   "execution_count": 16,
   "id": "7bd4033e",
   "metadata": {
    "scrolled": false
   },
   "outputs": [
    {
     "name": "stdout",
     "output_type": "stream",
     "text": [
      "[[[ 1  2]\n",
      "  [ 7  8]]\n",
      "\n",
      " [[ 3  4]\n",
      "  [ 9 10]]\n",
      "\n",
      " [[ 5  6]\n",
      "  [11 12]]]\n",
      "<class 'numpy.ndarray'>\n"
     ]
    }
   ],
   "source": [
    "# three-dim array\n",
    "arr4 = np.array([[[1,2],[7,8]],[[3,4],[9,10]],[[5,6],[11,12]]])\n",
    "print(arr4)\n",
    "print(type(arr4))"
   ]
  },
  {
   "cell_type": "code",
   "execution_count": 17,
   "id": "b76c75de",
   "metadata": {
    "scrolled": true
   },
   "outputs": [
    {
     "data": {
      "text/plain": [
       "dtype('int32')"
      ]
     },
     "execution_count": 17,
     "metadata": {},
     "output_type": "execute_result"
    }
   ],
   "source": [
    "arr4.dtype"
   ]
  },
  {
   "cell_type": "code",
   "execution_count": 18,
   "id": "97f205bb",
   "metadata": {
    "scrolled": true
   },
   "outputs": [
    {
     "data": {
      "text/plain": [
       "(3, 2, 2)"
      ]
     },
     "execution_count": 18,
     "metadata": {},
     "output_type": "execute_result"
    }
   ],
   "source": [
    "arr4.shape"
   ]
  },
  {
   "cell_type": "code",
   "execution_count": 19,
   "id": "0c4a44c4",
   "metadata": {},
   "outputs": [
    {
     "data": {
      "text/plain": [
       "3"
      ]
     },
     "execution_count": 19,
     "metadata": {},
     "output_type": "execute_result"
    }
   ],
   "source": [
    "arr4.ndim"
   ]
  },
  {
   "cell_type": "code",
   "execution_count": null,
   "id": "3cd67ecd",
   "metadata": {},
   "outputs": [],
   "source": [
    "# make one-d, two-d and three-d array with list"
   ]
  },
  {
   "cell_type": "code",
   "execution_count": null,
   "id": "acb4f94a",
   "metadata": {},
   "outputs": [],
   "source": [
    "# make a two -d of flots"
   ]
  }
 ],
 "metadata": {
  "kernelspec": {
   "display_name": "Python 3 (ipykernel)",
   "language": "python",
   "name": "python3"
  },
  "language_info": {
   "codemirror_mode": {
    "name": "ipython",
    "version": 3
   },
   "file_extension": ".py",
   "mimetype": "text/x-python",
   "name": "python",
   "nbconvert_exporter": "python",
   "pygments_lexer": "ipython3",
   "version": "3.9.7"
  }
 },
 "nbformat": 4,
 "nbformat_minor": 5
}
