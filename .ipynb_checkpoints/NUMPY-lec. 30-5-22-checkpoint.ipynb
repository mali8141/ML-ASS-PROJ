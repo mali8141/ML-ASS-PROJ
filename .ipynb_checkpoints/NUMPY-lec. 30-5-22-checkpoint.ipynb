{
 "cells": [
  {
   "cell_type": "code",
   "execution_count": 1,
   "id": "9ed4eb9a",
   "metadata": {},
   "outputs": [],
   "source": [
    "import numpy  as np"
   ]
  },
  {
   "cell_type": "code",
   "execution_count": null,
   "id": "c7c9edc7",
   "metadata": {},
   "outputs": [],
   "source": [
    "# q1- make one-d, two-d and three-d array with list"
   ]
  },
  {
   "cell_type": "code",
   "execution_count": 2,
   "id": "913e59f5",
   "metadata": {},
   "outputs": [
    {
     "name": "stdout",
     "output_type": "stream",
     "text": [
      "[[1 2 3]]\n"
     ]
    }
   ],
   "source": [
    "# 1-d array\n",
    "l1=[1,2,3]\n",
    "arr1 = np.array ([l1])\n",
    "print(arr1)\n"
   ]
  },
  {
   "cell_type": "code",
   "execution_count": 3,
   "id": "d95cd779",
   "metadata": {},
   "outputs": [
    {
     "name": "stdout",
     "output_type": "stream",
     "text": [
      "[[[1 2 3]]\n",
      "\n",
      " [[4 5 6]]\n",
      "\n",
      " [[7 8 9]]]\n"
     ]
    }
   ],
   "source": [
    "# 2-d array\n",
    "l2=[4,5,6]\n",
    "l3=[7,8,9]\n",
    "arr2 = np.array([[l1],[l2],[l3]])\n",
    "print(arr2)\n"
   ]
  },
  {
   "cell_type": "code",
   "execution_count": 4,
   "id": "fa163cbb",
   "metadata": {},
   "outputs": [
    {
     "name": "stdout",
     "output_type": "stream",
     "text": [
      "[[[[1 2 3]]\n",
      "\n",
      "  [[4 5 6]]]\n",
      "\n",
      "\n",
      " [[[7 8 9]]\n",
      "\n",
      "  [[1 2 3]]]\n",
      "\n",
      "\n",
      " [[[4 5 6]]\n",
      "\n",
      "  [[7 8 9]]]]\n"
     ]
    }
   ],
   "source": [
    "# 3-d array\n",
    "arr3 = np.array([[[l1],[l2]],[[l3],[l1]],[[l2],[l3]]])\n",
    "print(arr3)"
   ]
  },
  {
   "cell_type": "code",
   "execution_count": 7,
   "id": "772f2b0d",
   "metadata": {},
   "outputs": [
    {
     "name": "stdout",
     "output_type": "stream",
     "text": [
      "16.54\n"
     ]
    }
   ],
   "source": [
    "# q2- make a 2-d array of flots.\n",
    "print(float(\"16.54\"))"
   ]
  },
  {
   "cell_type": "code",
   "execution_count": null,
   "id": "6dcf1d35",
   "metadata": {},
   "outputs": [],
   "source": [
    "# q3- access 3rd and 4th element of one-d array, 2nd element of 2nd raw in 2d array, 2nd plane 2nd raw 3rd element of 3d array.\n",
    "\n"
   ]
  },
  {
   "cell_type": "code",
   "execution_count": 10,
   "id": "1e01f48c",
   "metadata": {
    "scrolled": true
   },
   "outputs": [
    {
     "ename": "SyntaxError",
     "evalue": "invalid syntax (Temp/ipykernel_11632/2768800963.py, line 4)",
     "output_type": "error",
     "traceback": [
      "\u001b[1;36m  File \u001b[1;32m\"C:\\Users\\Dell\\AppData\\Local\\Temp/ipykernel_11632/2768800963.py\"\u001b[1;36m, line \u001b[1;32m4\u001b[0m\n\u001b[1;33m    puts str[2, 3]\u001b[0m\n\u001b[1;37m         ^\u001b[0m\n\u001b[1;31mSyntaxError\u001b[0m\u001b[1;31m:\u001b[0m invalid syntax\n"
     ]
    }
   ],
   "source": [
    "# access 3rd and 4th element of one-d array\n",
    "\n",
    "str = [\"GFG\", \"G4G\", \"Sudo\", \"Geeks\"] \n",
    "puts str[2, 3] "
   ]
  },
  {
   "cell_type": "code",
   "execution_count": 12,
   "id": "f3d20a08",
   "metadata": {},
   "outputs": [
    {
     "ename": "NameError",
     "evalue": "name 'np' is not defined",
     "output_type": "error",
     "traceback": [
      "\u001b[1;31m---------------------------------------------------------------------------\u001b[0m",
      "\u001b[1;31mNameError\u001b[0m                                 Traceback (most recent call last)",
      "\u001b[1;32m~\\AppData\\Local\\Temp/ipykernel_11632/3601566546.py\u001b[0m in \u001b[0;36m<module>\u001b[1;34m\u001b[0m\n\u001b[0;32m      1\u001b[0m \u001b[1;31m#2nd element of 2nd raw in 2d array\u001b[0m\u001b[1;33m\u001b[0m\u001b[1;33m\u001b[0m\u001b[0m\n\u001b[1;32m----> 2\u001b[1;33m \u001b[0mA\u001b[0m \u001b[1;33m=\u001b[0m \u001b[0mnp\u001b[0m\u001b[1;33m.\u001b[0m\u001b[0marray\u001b[0m\u001b[1;33m(\u001b[0m\u001b[1;33m[\u001b[0m\u001b[1;33m[\u001b[0m\u001b[1;36m1\u001b[0m\u001b[1;33m,\u001b[0m\u001b[1;36m2\u001b[0m\u001b[1;33m,\u001b[0m\u001b[1;36m1\u001b[0m\u001b[1;33m]\u001b[0m\u001b[1;33m,\u001b[0m\u001b[1;33m[\u001b[0m\u001b[1;36m7\u001b[0m\u001b[1;33m,\u001b[0m\u001b[1;36m5\u001b[0m\u001b[1;33m,\u001b[0m\u001b[1;36m3\u001b[0m\u001b[1;33m]\u001b[0m\u001b[1;33m,\u001b[0m\u001b[1;33m[\u001b[0m\u001b[1;36m9\u001b[0m\u001b[1;33m,\u001b[0m\u001b[1;36m4\u001b[0m\u001b[1;33m,\u001b[0m\u001b[1;36m8\u001b[0m\u001b[1;33m]\u001b[0m\u001b[1;33m]\u001b[0m\u001b[1;33m)\u001b[0m\u001b[1;33m\u001b[0m\u001b[1;33m\u001b[0m\u001b[0m\n\u001b[0m\u001b[0;32m      3\u001b[0m \u001b[0mprint\u001b[0m\u001b[1;33m(\u001b[0m\u001b[1;36m0\u001b[0m\u001b[1;33m,\u001b[0m\u001b[1;36m0\u001b[0m\u001b[1;33m)\u001b[0m\u001b[1;33m\u001b[0m\u001b[1;33m\u001b[0m\u001b[0m\n",
      "\u001b[1;31mNameError\u001b[0m: name 'np' is not defined"
     ]
    }
   ],
   "source": [
    "#2nd element of 2nd raw in 2d array\n",
    "A = np.array([[1,2,1],[7,5,3],[9,4,8]])\n",
    "print(0,0)\n"
   ]
  },
  {
   "cell_type": "code",
   "execution_count": null,
   "id": "de8bf67f",
   "metadata": {},
   "outputs": [],
   "source": [
    "#2nd plane 2nd raw 3rd element of 3d array.\n",
    "arr3 = np.array([[[1,2,3],[4,5,6]],[[7,8,9],[10,11,12]],[[13,14,15],[16,17,18]]])"
   ]
  },
  {
   "cell_type": "code",
   "execution_count": null,
   "id": "c3e6f519",
   "metadata": {},
   "outputs": [],
   "source": []
  }
 ],
 "metadata": {
  "kernelspec": {
   "display_name": "Python 3 (ipykernel)",
   "language": "python",
   "name": "python3"
  },
  "language_info": {
   "codemirror_mode": {
    "name": "ipython",
    "version": 3
   },
   "file_extension": ".py",
   "mimetype": "text/x-python",
   "name": "python",
   "nbconvert_exporter": "python",
   "pygments_lexer": "ipython3",
   "version": "3.9.7"
  }
 },
 "nbformat": 4,
 "nbformat_minor": 5
}
